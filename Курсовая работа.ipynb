{
 "cells": [
  {
   "cell_type": "code",
   "execution_count": 1,
   "metadata": {},
   "outputs": [],
   "source": [
    "import pandas as pd\n",
    "import numpy as np\n",
    "import pickle\n",
    "from stargazer.stargazer import Stargazer\n",
    "\n",
    "from sklearn import tree\n",
    "from sklearn.tree import DecisionTreeClassifier, export_graphviz\n",
    "from sklearn import svm\n",
    "from sklearn.model_selection import train_test_split\n",
    "from sklearn import metrics\n",
    "from sklearn.linear_model import LogisticRegression\n",
    "from sklearn.model_selection import GridSearchCV\n",
    "\n",
    "import pymorphy2\n",
    "morph = pymorphy2.MorphAnalyzer()"
   ]
  },
  {
   "cell_type": "code",
   "execution_count": 2,
   "metadata": {},
   "outputs": [
    {
     "name": "stderr",
     "output_type": "stream",
     "text": [
      "/Library/Frameworks/Python.framework/Versions/3.7/lib/python3.7/site-packages/sklearn/externals/six.py:31: FutureWarning: The module is deprecated in version 0.21 and will be removed in version 0.23 since we've dropped support for Python 2.7. Please rely on the official version of six (https://pypi.org/project/six/).\n",
      "  \"(https://pypi.org/project/six/).\", FutureWarning)\n"
     ]
    }
   ],
   "source": [
    "# import seaborn as sns\n",
    "# sns.set_style(\"white\")\n",
    "# sns.set_palette(\"BrBG\")\n",
    "\n",
    "import matplotlib.pyplot as plt\n",
    "hfont = {'fontname':'Helvetica'}\n",
    "\n",
    "# sns.set()\n",
    "\n",
    "from sklearn.externals.six import StringIO  \n",
    "from IPython.display import Image  \n",
    "from sklearn.tree import export_graphviz\n",
    "import pydotplus"
   ]
  },
  {
   "cell_type": "code",
   "execution_count": 3,
   "metadata": {},
   "outputs": [],
   "source": [
    "#2019 только имена для определения перепоступивших\n",
    "before_2019_1_1 = pd.read_excel(\"зачислено2019.xlsx\")\n",
    "\n",
    "#2018\n",
    "before_2018_1_1 = pd.read_excel(\"зачисленные в 2018/Copy of Текущий рейтинг До пересдач 2018_19 1курс.xlsx\")\n",
    "\n",
    "#2017\n",
    "\n",
    "before_2017_1_1 = pd.read_excel(\"зачисленные в 2017/Copy of До пересдач 1 семестр 2017_18 1 курс.xlsx\")\n",
    "after_2017_1_1 = pd.read_excel(\"зачисленные в 2017/Copy of После пересдач 1 семестр 2017_18 1 курс.xlsx\")\n",
    "\n",
    "before_2017_1_2 = pd.read_excel(\"зачисленные в 2017/Copy of До пересдач 2 семестр 2017_18 1 курс.xlsx\")\n",
    "after_2017_1_2 = pd.read_excel(\"зачисленные в 2017/Copy of После пересдач 2 семестр 2017_18 1 курс.xlsx\")\n",
    "\n",
    "before_2017_2_1 = pd.read_excel(\"зачисленные в 2017/Copy of Текущий рейтинг До пересдач 2018_19 2курс.xlsx\")\n",
    "\n",
    "#2016\n",
    "\n",
    "before_2016_1_1 = pd.read_excel(\"зачисленные в 2016/Copy of До пересдач 1 семестр 2016_17 1 курс.xlsx\")\n",
    "after_2016_1_1 = pd.read_excel(\"зачисленные в 2016/Copy of После пересдач 1 семестр 2016_17 1 курс.xlsx\")\n",
    "\n",
    "before_2016_1_2 = pd.read_excel(\"зачисленные в 2016/Copy of До пересдач 2 семестр 2016_17 1 курс.xlsx\")\n",
    "after_2016_1_2 = pd.read_excel(\"зачисленные в 2016/Copy of После пересдач 2 семестр 2016_17 1 курс.xlsx\")\n",
    "\n",
    "before_2016_2_1 = pd.read_excel(\"зачисленные в 2016/Copy of До пересдач 1 семестр 2017_18 2 курс.xlsx\")\n",
    "after_2016_2_1 = pd.read_excel(\"зачисленные в 2016/Copy of После пересдач 1 семестр 2017_18 2 курс.xlsx\")\n",
    "\n",
    "\n",
    "#2015\n",
    "\n",
    "before_2015_1_1 = pd.read_excel(\"зачисленные в 2015/Copy of Текущий рейтинг до пересдач 2015_16 1сем 1курс.xlsx\")\n",
    "after_2015_1_1 = pd.read_excel(\"зачисленные в 2015/Copy of Текущий рейтинг после пересдач 2015_16 1сем 1курс.xlsx\")\n",
    "\n",
    "before_2015_1_2 = pd.read_excel(\"зачисленные в 2015/Copy of Текущий рейтинг до пересдач 2015_16 2сем 1курс.xlsx\")\n",
    "after_2015_1_2 = pd.read_excel(\"зачисленные в 2015/Copy of Текущий рейтинг после пересдач 2015_16 2сем 1курс.xlsx\")\n",
    "\n",
    "before_2015_2_1 = pd.read_excel(\"зачисленные в 2015/Copy of До пересдач 1 семестр 2016_17 2 курс.xlsx\")\n",
    "after_2015_2_1 = pd.read_excel(\"зачисленные в 2015/Copy of После пересдач 1 семестр 2016_17 2 курс.xlsx\")"
   ]
  },
  {
   "cell_type": "markdown",
   "metadata": {},
   "source": [
    "Складываем колонки с оценками по майнору, чтобы у каждого была оценка только по своему предмету."
   ]
  },
  {
   "cell_type": "code",
   "execution_count": 4,
   "metadata": {},
   "outputs": [],
   "source": [
    "seconds = [before_2017_2_1, before_2016_2_1, before_2015_2_1]\n",
    "\n",
    "for sem in seconds:\n",
    "    filter_col = [col for col in sem if col.startswith('minor')]\n",
    "    minor = sem[filter_col].sum(axis = 1)\n",
    "    sem.drop(filter_col, axis = 1, inplace=True)\n",
    "    sem.insert(6,\"minor_2_1_before\",minor)\n",
    "    \n",
    "seconds = [after_2016_2_1, after_2015_2_1]\n",
    "\n",
    "for sem in seconds:\n",
    "    filter_col = [col for col in sem if col.startswith('minor')]\n",
    "    minor = sem[filter_col].sum(axis = 1)\n",
    "    sem.drop(filter_col, axis = 1, inplace=True)\n",
    "    sem.insert(6,\"minor_2_1_after\",minor)"
   ]
  },
  {
   "cell_type": "markdown",
   "metadata": {},
   "source": [
    "Проверяем, есть ли люди, сменившие майнор (оценка получается > 10). В их случае берем среднее."
   ]
  },
  {
   "cell_type": "code",
   "execution_count": 5,
   "metadata": {},
   "outputs": [
    {
     "data": {
      "text/html": [
       "<div>\n",
       "<style scoped>\n",
       "    .dataframe tbody tr th:only-of-type {\n",
       "        vertical-align: middle;\n",
       "    }\n",
       "\n",
       "    .dataframe tbody tr th {\n",
       "        vertical-align: top;\n",
       "    }\n",
       "\n",
       "    .dataframe thead th {\n",
       "        text-align: right;\n",
       "    }\n",
       "</style>\n",
       "<table border=\"1\" class=\"dataframe\">\n",
       "  <thead>\n",
       "    <tr style=\"text-align: right;\">\n",
       "      <th></th>\n",
       "      <th>name</th>\n",
       "      <th>id</th>\n",
       "      <th>rank_2_1_after</th>\n",
       "      <th>avg_score_2_1_after</th>\n",
       "      <th>min_score_2_1_after</th>\n",
       "      <th>fails_2_1_after</th>\n",
       "      <th>minor_2_1_after</th>\n",
       "      <th>info_systems_after</th>\n",
       "      <th>calculus_3_after</th>\n",
       "      <th>programming_after</th>\n",
       "    </tr>\n",
       "  </thead>\n",
       "  <tbody>\n",
       "  </tbody>\n",
       "</table>\n",
       "</div>"
      ],
      "text/plain": [
       "Empty DataFrame\n",
       "Columns: [name, id, rank_2_1_after, avg_score_2_1_after, min_score_2_1_after, fails_2_1_after, minor_2_1_after, info_systems_after, calculus_3_after, programming_after]\n",
       "Index: []"
      ]
     },
     "execution_count": 5,
     "metadata": {},
     "output_type": "execute_result"
    }
   ],
   "source": [
    "after_2015_2_1[after_2015_2_1['minor_2_1_after']>10]"
   ]
  },
  {
   "cell_type": "markdown",
   "metadata": {},
   "source": [
    "outer, чтобы держать в памяти отчислившихся"
   ]
  },
  {
   "cell_type": "markdown",
   "metadata": {},
   "source": [
    "# СДЕЛАТЬ ВТОРОЙ КУРС"
   ]
  },
  {
   "cell_type": "code",
   "execution_count": 6,
   "metadata": {},
   "outputs": [],
   "source": [
    "course_1_2018 = before_2018_1_1.copy()"
   ]
  },
  {
   "cell_type": "code",
   "execution_count": 7,
   "metadata": {},
   "outputs": [],
   "source": [
    "sem1 = before_2017_1_1.merge(after_2017_1_1, how = \"outer\", on = \"id\")\n",
    "sem2 = before_2017_1_2.merge(after_2017_1_2, how = \"outer\", on = \"id\")\n",
    "course_1_2017 = sem1.merge(sem2, how = \"outer\", on = \"id\")"
   ]
  },
  {
   "cell_type": "code",
   "execution_count": 8,
   "metadata": {},
   "outputs": [],
   "source": [
    "sem1 = before_2016_1_1.merge(after_2016_1_1, how = \"outer\", on = \"id\")\n",
    "sem2 = before_2016_1_2.merge(after_2016_1_2, how = \"outer\", on = \"id\")\n",
    "course_1_2016 = sem1.merge(sem2, how = \"outer\", on = \"id\")"
   ]
  },
  {
   "cell_type": "code",
   "execution_count": 9,
   "metadata": {},
   "outputs": [],
   "source": [
    "sem1 = before_2015_1_1.merge(after_2015_1_1, how = \"outer\", on = \"id\")\n",
    "sem2 = before_2015_1_2.merge(after_2015_1_2, how = \"outer\", on = \"id\")\n",
    "course_1_2015 = sem1.merge(sem2, how = \"outer\", on = \"id\")"
   ]
  },
  {
   "cell_type": "code",
   "execution_count": 10,
   "metadata": {},
   "outputs": [],
   "source": [
    "course_1_2018[\"enrol_year\"] = 2018\n",
    "course_1_2018 = course_1_2018.dropna(subset=['name'])\n",
    "course_1_2017[\"enrol_year\"] = 2017\n",
    "course_1_2017 = course_1_2017.dropna(subset=['name_x_x'])\n",
    "course_1_2016[\"enrol_year\"] = 2016\n",
    "course_1_2016 = course_1_2016.dropna(subset=['name_x_x'])\n",
    "course_1_2015[\"enrol_year\"] = 2015\n",
    "course_1_2015 = course_1_2015.dropna(subset=['name_x_x'])"
   ]
  },
  {
   "cell_type": "code",
   "execution_count": 11,
   "metadata": {},
   "outputs": [],
   "source": [
    "course_1_2015.rename(columns={\"lin_alg_before_y\": \"lin_alg_before\", \"programming_before_y\": \"programming_before\",\n",
    "                             \"lin_alg_after_y\":\"lin_alg_after\",\"programming_after_y\":\"programming_after\"},\n",
    "                    inplace=True)"
   ]
  },
  {
   "cell_type": "markdown",
   "metadata": {},
   "source": [
    "Определяем пол, удаляем имена"
   ]
  },
  {
   "cell_type": "code",
   "execution_count": 12,
   "metadata": {},
   "outputs": [],
   "source": [
    "courses = [course_1_2018, course_1_2017, course_1_2016, course_1_2015]\n",
    "\n",
    "for course in courses:\n",
    "    gender = []\n",
    "    for name in course.iloc[:,0]:\n",
    "        name = name.strip().split(\" \")\n",
    "        gender.append(str(morph.parse(name[-1])[0].tag.gender))\n",
    "    course.insert(2,\"gender\",gender)\n",
    "    course.drop([col for col in course if col.startswith('name')], axis = 1, inplace=True)"
   ]
  },
  {
   "cell_type": "code",
   "execution_count": 13,
   "metadata": {},
   "outputs": [
    {
     "data": {
      "text/html": [
       "<div>\n",
       "<style scoped>\n",
       "    .dataframe tbody tr th:only-of-type {\n",
       "        vertical-align: middle;\n",
       "    }\n",
       "\n",
       "    .dataframe tbody tr th {\n",
       "        vertical-align: top;\n",
       "    }\n",
       "\n",
       "    .dataframe thead th {\n",
       "        text-align: right;\n",
       "    }\n",
       "</style>\n",
       "<table border=\"1\" class=\"dataframe\">\n",
       "  <thead>\n",
       "    <tr style=\"text-align: right;\">\n",
       "      <th></th>\n",
       "      <th>id</th>\n",
       "      <th>gender</th>\n",
       "      <th>rank_1_1_before</th>\n",
       "      <th>avg_score_1_1_before</th>\n",
       "      <th>min_score_1_1_before</th>\n",
       "      <th>fails_1_1_before</th>\n",
       "      <th>safety_before</th>\n",
       "      <th>history_before</th>\n",
       "      <th>lin_alg_before</th>\n",
       "      <th>info_systems_before</th>\n",
       "      <th>calculus_1_before</th>\n",
       "      <th>phil_before</th>\n",
       "      <th>enrol_year</th>\n",
       "    </tr>\n",
       "  </thead>\n",
       "  <tbody>\n",
       "    <tr>\n",
       "      <th>289</th>\n",
       "      <td>2589794685</td>\n",
       "      <td>None</td>\n",
       "      <td>0</td>\n",
       "      <td>0.0</td>\n",
       "      <td>0</td>\n",
       "      <td>Да</td>\n",
       "      <td>н/я</td>\n",
       "      <td>н/я</td>\n",
       "      <td>н/я</td>\n",
       "      <td>н/я</td>\n",
       "      <td>н/я</td>\n",
       "      <td>н/я</td>\n",
       "      <td>2018</td>\n",
       "    </tr>\n",
       "  </tbody>\n",
       "</table>\n",
       "</div>"
      ],
      "text/plain": [
       "             id gender  rank_1_1_before  avg_score_1_1_before  \\\n",
       "289  2589794685   None                0                   0.0   \n",
       "\n",
       "     min_score_1_1_before fails_1_1_before safety_before history_before  \\\n",
       "289                     0               Да           н/я            н/я   \n",
       "\n",
       "    lin_alg_before info_systems_before calculus_1_before phil_before  \\\n",
       "289            н/я                 н/я               н/я         н/я   \n",
       "\n",
       "     enrol_year  \n",
       "289        2018  "
      ]
     },
     "execution_count": 13,
     "metadata": {},
     "output_type": "execute_result"
    }
   ],
   "source": [
    "course_1_2018[course_1_2018['gender']==\"None\"]"
   ]
  },
  {
   "cell_type": "code",
   "execution_count": 14,
   "metadata": {
    "scrolled": true
   },
   "outputs": [
    {
     "data": {
      "text/plain": [
       "(687, 41)"
      ]
     },
     "execution_count": 14,
     "metadata": {},
     "output_type": "execute_result"
    }
   ],
   "source": [
    "first_year = pd.concat([course_1_2017, course_1_2016, course_1_2015], join=\"inner\",ignore_index = True)\n",
    "first_year.shape"
   ]
  },
  {
   "cell_type": "markdown",
   "metadata": {},
   "source": [
    "## Отчисленные "
   ]
  },
  {
   "cell_type": "markdown",
   "metadata": {},
   "source": [
    "Сохраняем id отчисленных"
   ]
  },
  {
   "cell_type": "code",
   "execution_count": 15,
   "metadata": {},
   "outputs": [],
   "source": [
    "def anti_join(x, y, on):\n",
    "    \"\"\"Return rows in x which are not present in y\"\"\"\n",
    "    ans = pd.merge(left=x, right=y, how='left', indicator=True, on=on)\n",
    "    ans = ans.loc[ans._merge == 'left_only', :].drop(columns='_merge')\n",
    "    return ans\n",
    "#https://gist.github.com/sainathadapa/eb3303975196d15c73bac5b92d8a210f"
   ]
  },
  {
   "cell_type": "code",
   "execution_count": 16,
   "metadata": {},
   "outputs": [],
   "source": [
    "dropouts = pd.DataFrame()\n",
    "\n",
    "indexes = [\"После пересдач 1 курс 1 семестр\",\"До пересдач 1 курс 2 семестр\",\"После пересдач 1 курс 2 семестр\",\"До пересдач 2 курс 1 семестр\"]\n",
    "dropouts[\"indexes\"] = indexes\n",
    "\n",
    "dropout_time = [\"dropout_after_1_1\",\"dropout_before_1_2\",\"dropout_after_1_2\",\"dropout_before_2_1\"]\n",
    "dropouts[\"dropout_time\"] = dropout_time\n",
    "\n",
    "#dropouts.set_index(\"indexes\", drop=True, inplace=True)"
   ]
  },
  {
   "cell_type": "code",
   "execution_count": 17,
   "metadata": {},
   "outputs": [],
   "source": [
    "dict = {\n",
    "    \"2015\":[before_2015_1_1,after_2015_1_1,before_2015_1_2,after_2015_1_2,before_2015_2_1],\n",
    "    \"2016\":[before_2016_1_1,after_2016_1_1,before_2016_1_2,after_2016_1_2,before_2016_2_1],\n",
    "    \"2017\":[before_2017_1_1,after_2017_1_1,before_2017_1_2,after_2017_1_2,before_2017_2_1]\n",
    "}\n",
    "\n",
    "for year,l in dict.items():\n",
    "    lens = []\n",
    "    for i in range(len(l)-1):\n",
    "        ids = anti_join(l[i],l[i+1],\"id\")[\"id\"].tolist()\n",
    "        for j in range(len(first_year[\"id\"])):\n",
    "            if first_year.loc[j,\"id\"] in ids:\n",
    "                first_year.loc[j,dropout_time[i]] = 1\n",
    "        lens.append(len(ids))\n",
    "    dropouts[year] = lens"
   ]
  },
  {
   "cell_type": "code",
   "execution_count": 18,
   "metadata": {},
   "outputs": [
    {
     "data": {
      "text/html": [
       "<div>\n",
       "<style scoped>\n",
       "    .dataframe tbody tr th:only-of-type {\n",
       "        vertical-align: middle;\n",
       "    }\n",
       "\n",
       "    .dataframe tbody tr th {\n",
       "        vertical-align: top;\n",
       "    }\n",
       "\n",
       "    .dataframe thead th {\n",
       "        text-align: right;\n",
       "    }\n",
       "</style>\n",
       "<table border=\"1\" class=\"dataframe\">\n",
       "  <thead>\n",
       "    <tr style=\"text-align: right;\">\n",
       "      <th></th>\n",
       "      <th>indexes</th>\n",
       "      <th>dropout_time</th>\n",
       "      <th>2015</th>\n",
       "      <th>2016</th>\n",
       "      <th>2017</th>\n",
       "    </tr>\n",
       "  </thead>\n",
       "  <tbody>\n",
       "    <tr>\n",
       "      <th>0</th>\n",
       "      <td>После пересдач 1 курс 1 семестр</td>\n",
       "      <td>dropout_after_1_1</td>\n",
       "      <td>17</td>\n",
       "      <td>14</td>\n",
       "      <td>8</td>\n",
       "    </tr>\n",
       "    <tr>\n",
       "      <th>1</th>\n",
       "      <td>До пересдач 1 курс 2 семестр</td>\n",
       "      <td>dropout_before_1_2</td>\n",
       "      <td>12</td>\n",
       "      <td>14</td>\n",
       "      <td>13</td>\n",
       "    </tr>\n",
       "    <tr>\n",
       "      <th>2</th>\n",
       "      <td>После пересдач 1 курс 2 семестр</td>\n",
       "      <td>dropout_after_1_2</td>\n",
       "      <td>21</td>\n",
       "      <td>15</td>\n",
       "      <td>20</td>\n",
       "    </tr>\n",
       "    <tr>\n",
       "      <th>3</th>\n",
       "      <td>До пересдач 2 курс 1 семестр</td>\n",
       "      <td>dropout_before_2_1</td>\n",
       "      <td>1</td>\n",
       "      <td>9</td>\n",
       "      <td>2</td>\n",
       "    </tr>\n",
       "  </tbody>\n",
       "</table>\n",
       "</div>"
      ],
      "text/plain": [
       "                           indexes        dropout_time  2015  2016  2017\n",
       "0  После пересдач 1 курс 1 семестр   dropout_after_1_1    17    14     8\n",
       "1     До пересдач 1 курс 2 семестр  dropout_before_1_2    12    14    13\n",
       "2  После пересдач 1 курс 2 семестр   dropout_after_1_2    21    15    20\n",
       "3     До пересдач 2 курс 1 семестр  dropout_before_2_1     1     9     2"
      ]
     },
     "execution_count": 18,
     "metadata": {},
     "output_type": "execute_result"
    }
   ],
   "source": [
    "dropouts.head(10)"
   ]
  },
  {
   "cell_type": "code",
   "execution_count": 19,
   "metadata": {},
   "outputs": [],
   "source": [
    "pickle.dump(dropouts, open('dropouts.dat', 'wb'))"
   ]
  },
  {
   "cell_type": "code",
   "execution_count": 20,
   "metadata": {},
   "outputs": [],
   "source": [
    "pickle.dump(first_year, open('first_year.dat', 'wb'))"
   ]
  },
  {
   "cell_type": "markdown",
   "metadata": {},
   "source": [
    "Считываем из файла"
   ]
  },
  {
   "cell_type": "code",
   "execution_count": 21,
   "metadata": {},
   "outputs": [],
   "source": [
    "dropouts = pd.read_pickle('dropouts.dat')"
   ]
  },
  {
   "cell_type": "code",
   "execution_count": 22,
   "metadata": {},
   "outputs": [
    {
     "data": {
      "text/plain": [
       "<Figure size 432x288 with 0 Axes>"
      ]
     },
     "metadata": {},
     "output_type": "display_data"
    },
    {
     "data": {
      "image/png": "[encoded data removed]",
      "text/plain": [
       "<Figure size 432x288 with 1 Axes>"
      ]
     },
     "metadata": {
      "needs_background": "light"
     },
     "output_type": "display_data"
    }
   ],
   "source": [
    "plt.figure()\n",
    "dropouts.plot(x=\"indexes\", y=[\"2015\",\"2016\",\"2017\"], marker=\"o\")\n",
    "plt.xticks(rotation=90, **hfont)\n",
    "plt.xlabel('Время',**hfont)\n",
    "plt.ylabel('Число отчисленных',**hfont)\n",
    "plt.savefig('dropouts_plot_2017.png', dpi=300, bbox_inches=\"tight\")"
   ]
  },
  {
   "cell_type": "markdown",
   "metadata": {},
   "source": [
    "## Добавление dummy и описательные статистики "
   ]
  },
  {
   "cell_type": "markdown",
   "metadata": {},
   "source": [
    "Читаем из файла:"
   ]
  },
  {
   "cell_type": "code",
   "execution_count": 23,
   "metadata": {},
   "outputs": [],
   "source": [
    "first_year = pd.read_pickle('first_year.dat')"
   ]
  },
  {
   "cell_type": "code",
   "execution_count": 24,
   "metadata": {},
   "outputs": [
    {
     "data": {
      "text/plain": [
       "Index(['id', 'gender', 'rank_1_1_before', 'avg_score_1_1_before',\n",
       "       'min_score_1_1_before', 'fails_1_1_before', 'safety_before',\n",
       "       'history_before', 'lin_alg_before', 'calculus_1_before',\n",
       "       'economics_before', 'rank_1_1_after', 'avg_score_1_1_after',\n",
       "       'min_score_1_1_after', 'fails_1_1_after', 'safety_after',\n",
       "       'history_after', 'lin_alg_after', 'calculus_1_after', 'economics_after',\n",
       "       'rank_1_2_before', 'avg_score_1_2_before', 'min_score_1_2_before',\n",
       "       'fails_1_2_before', 'eng_before', 'discrete_math_before',\n",
       "       'programming_before', 'project_sem_before', 'theor_info_before',\n",
       "       'phil_before', 'rank_1_2_after', 'avg_score_1_2_after',\n",
       "       'min_score_1_2_after', 'fails_1_2_after', 'eng_after',\n",
       "       'discrete_math_after', 'programming_after', 'project_sem_after',\n",
       "       'theor_info_after', 'phil_after', 'enrol_year', 'dropout_after_1_1',\n",
       "       'dropout_before_1_2', 'dropout_after_1_2', 'dropout_before_2_1'],\n",
       "      dtype='object')"
      ]
     },
     "execution_count": 24,
     "metadata": {},
     "output_type": "execute_result"
    }
   ],
   "source": [
    "first_year.columns"
   ]
  },
  {
   "cell_type": "markdown",
   "metadata": {},
   "source": [
    "для пола:"
   ]
  },
  {
   "cell_type": "code",
   "execution_count": 25,
   "metadata": {},
   "outputs": [
    {
     "data": {
      "text/plain": [
       "0      0\n",
       "1      1\n",
       "2      0\n",
       "3      1\n",
       "4      0\n",
       "      ..\n",
       "682    0\n",
       "683    1\n",
       "684    1\n",
       "685    1\n",
       "686    1\n",
       "Name: gender, Length: 687, dtype: int64"
      ]
     },
     "execution_count": 25,
     "metadata": {},
     "output_type": "execute_result"
    }
   ],
   "source": [
    "first_year.loc[first_year.gender == \"femn\", 'gender'] = 0\n",
    "first_year.loc[first_year.gender != 0, 'gender'] = 1\n",
    "first_year[\"gender\"]"
   ]
  },
  {
   "cell_type": "markdown",
   "metadata": {},
   "source": [
    "для пересдач:"
   ]
  },
  {
   "cell_type": "code",
   "execution_count": 26,
   "metadata": {},
   "outputs": [
    {
     "data": {
      "text/html": [
       "<div>\n",
       "<style scoped>\n",
       "    .dataframe tbody tr th:only-of-type {\n",
       "        vertical-align: middle;\n",
       "    }\n",
       "\n",
       "    .dataframe tbody tr th {\n",
       "        vertical-align: top;\n",
       "    }\n",
       "\n",
       "    .dataframe thead th {\n",
       "        text-align: right;\n",
       "    }\n",
       "</style>\n",
       "<table border=\"1\" class=\"dataframe\">\n",
       "  <thead>\n",
       "    <tr style=\"text-align: right;\">\n",
       "      <th></th>\n",
       "      <th>fails_1_1_before</th>\n",
       "      <th>fails_1_1_after</th>\n",
       "      <th>fails_1_2_before</th>\n",
       "      <th>fails_1_2_after</th>\n",
       "    </tr>\n",
       "  </thead>\n",
       "  <tbody>\n",
       "    <tr>\n",
       "      <th>0</th>\n",
       "      <td>0</td>\n",
       "      <td>0</td>\n",
       "      <td>0</td>\n",
       "      <td>0</td>\n",
       "    </tr>\n",
       "    <tr>\n",
       "      <th>1</th>\n",
       "      <td>0</td>\n",
       "      <td>0</td>\n",
       "      <td>0</td>\n",
       "      <td>0</td>\n",
       "    </tr>\n",
       "    <tr>\n",
       "      <th>2</th>\n",
       "      <td>0</td>\n",
       "      <td>0</td>\n",
       "      <td>0</td>\n",
       "      <td>0</td>\n",
       "    </tr>\n",
       "    <tr>\n",
       "      <th>3</th>\n",
       "      <td>0</td>\n",
       "      <td>0</td>\n",
       "      <td>0</td>\n",
       "      <td>0</td>\n",
       "    </tr>\n",
       "    <tr>\n",
       "      <th>4</th>\n",
       "      <td>0</td>\n",
       "      <td>0</td>\n",
       "      <td>0</td>\n",
       "      <td>0</td>\n",
       "    </tr>\n",
       "    <tr>\n",
       "      <th>5</th>\n",
       "      <td>0</td>\n",
       "      <td>0</td>\n",
       "      <td>0</td>\n",
       "      <td>0</td>\n",
       "    </tr>\n",
       "    <tr>\n",
       "      <th>6</th>\n",
       "      <td>0</td>\n",
       "      <td>0</td>\n",
       "      <td>0</td>\n",
       "      <td>0</td>\n",
       "    </tr>\n",
       "    <tr>\n",
       "      <th>7</th>\n",
       "      <td>0</td>\n",
       "      <td>0</td>\n",
       "      <td>0</td>\n",
       "      <td>0</td>\n",
       "    </tr>\n",
       "    <tr>\n",
       "      <th>8</th>\n",
       "      <td>0</td>\n",
       "      <td>0</td>\n",
       "      <td>0</td>\n",
       "      <td>0</td>\n",
       "    </tr>\n",
       "    <tr>\n",
       "      <th>9</th>\n",
       "      <td>0</td>\n",
       "      <td>0</td>\n",
       "      <td>0</td>\n",
       "      <td>0</td>\n",
       "    </tr>\n",
       "    <tr>\n",
       "      <th>10</th>\n",
       "      <td>0</td>\n",
       "      <td>0</td>\n",
       "      <td>0</td>\n",
       "      <td>0</td>\n",
       "    </tr>\n",
       "    <tr>\n",
       "      <th>11</th>\n",
       "      <td>0</td>\n",
       "      <td>0</td>\n",
       "      <td>0</td>\n",
       "      <td>0</td>\n",
       "    </tr>\n",
       "    <tr>\n",
       "      <th>12</th>\n",
       "      <td>0</td>\n",
       "      <td>0</td>\n",
       "      <td>0</td>\n",
       "      <td>0</td>\n",
       "    </tr>\n",
       "    <tr>\n",
       "      <th>13</th>\n",
       "      <td>0</td>\n",
       "      <td>0</td>\n",
       "      <td>0</td>\n",
       "      <td>0</td>\n",
       "    </tr>\n",
       "    <tr>\n",
       "      <th>14</th>\n",
       "      <td>0</td>\n",
       "      <td>0</td>\n",
       "      <td>0</td>\n",
       "      <td>0</td>\n",
       "    </tr>\n",
       "    <tr>\n",
       "      <th>15</th>\n",
       "      <td>0</td>\n",
       "      <td>0</td>\n",
       "      <td>0</td>\n",
       "      <td>0</td>\n",
       "    </tr>\n",
       "    <tr>\n",
       "      <th>16</th>\n",
       "      <td>0</td>\n",
       "      <td>0</td>\n",
       "      <td>0</td>\n",
       "      <td>0</td>\n",
       "    </tr>\n",
       "    <tr>\n",
       "      <th>17</th>\n",
       "      <td>0</td>\n",
       "      <td>0</td>\n",
       "      <td>0</td>\n",
       "      <td>0</td>\n",
       "    </tr>\n",
       "    <tr>\n",
       "      <th>18</th>\n",
       "      <td>0</td>\n",
       "      <td>0</td>\n",
       "      <td>0</td>\n",
       "      <td>0</td>\n",
       "    </tr>\n",
       "    <tr>\n",
       "      <th>19</th>\n",
       "      <td>0</td>\n",
       "      <td>0</td>\n",
       "      <td>0</td>\n",
       "      <td>0</td>\n",
       "    </tr>\n",
       "    <tr>\n",
       "      <th>20</th>\n",
       "      <td>0</td>\n",
       "      <td>0</td>\n",
       "      <td>0</td>\n",
       "      <td>0</td>\n",
       "    </tr>\n",
       "    <tr>\n",
       "      <th>21</th>\n",
       "      <td>0</td>\n",
       "      <td>0</td>\n",
       "      <td>0</td>\n",
       "      <td>0</td>\n",
       "    </tr>\n",
       "    <tr>\n",
       "      <th>22</th>\n",
       "      <td>0</td>\n",
       "      <td>0</td>\n",
       "      <td>0</td>\n",
       "      <td>0</td>\n",
       "    </tr>\n",
       "    <tr>\n",
       "      <th>23</th>\n",
       "      <td>0</td>\n",
       "      <td>0</td>\n",
       "      <td>0</td>\n",
       "      <td>0</td>\n",
       "    </tr>\n",
       "    <tr>\n",
       "      <th>24</th>\n",
       "      <td>0</td>\n",
       "      <td>0</td>\n",
       "      <td>0</td>\n",
       "      <td>0</td>\n",
       "    </tr>\n",
       "    <tr>\n",
       "      <th>25</th>\n",
       "      <td>0</td>\n",
       "      <td>0</td>\n",
       "      <td>0</td>\n",
       "      <td>0</td>\n",
       "    </tr>\n",
       "    <tr>\n",
       "      <th>26</th>\n",
       "      <td>0</td>\n",
       "      <td>0</td>\n",
       "      <td>1</td>\n",
       "      <td>1</td>\n",
       "    </tr>\n",
       "    <tr>\n",
       "      <th>27</th>\n",
       "      <td>0</td>\n",
       "      <td>0</td>\n",
       "      <td>0</td>\n",
       "      <td>0</td>\n",
       "    </tr>\n",
       "    <tr>\n",
       "      <th>28</th>\n",
       "      <td>0</td>\n",
       "      <td>0</td>\n",
       "      <td>0</td>\n",
       "      <td>0</td>\n",
       "    </tr>\n",
       "    <tr>\n",
       "      <th>29</th>\n",
       "      <td>0</td>\n",
       "      <td>0</td>\n",
       "      <td>0</td>\n",
       "      <td>0</td>\n",
       "    </tr>\n",
       "    <tr>\n",
       "      <th>...</th>\n",
       "      <td>...</td>\n",
       "      <td>...</td>\n",
       "      <td>...</td>\n",
       "      <td>...</td>\n",
       "    </tr>\n",
       "    <tr>\n",
       "      <th>657</th>\n",
       "      <td>1</td>\n",
       "      <td>0</td>\n",
       "      <td>1</td>\n",
       "      <td>0</td>\n",
       "    </tr>\n",
       "    <tr>\n",
       "      <th>658</th>\n",
       "      <td>1</td>\n",
       "      <td>0</td>\n",
       "      <td>1</td>\n",
       "      <td>0</td>\n",
       "    </tr>\n",
       "    <tr>\n",
       "      <th>659</th>\n",
       "      <td>1</td>\n",
       "      <td>0</td>\n",
       "      <td>1</td>\n",
       "      <td>0</td>\n",
       "    </tr>\n",
       "    <tr>\n",
       "      <th>660</th>\n",
       "      <td>1</td>\n",
       "      <td>0</td>\n",
       "      <td>0</td>\n",
       "      <td>0</td>\n",
       "    </tr>\n",
       "    <tr>\n",
       "      <th>661</th>\n",
       "      <td>1</td>\n",
       "      <td>0</td>\n",
       "      <td>1</td>\n",
       "      <td>0</td>\n",
       "    </tr>\n",
       "    <tr>\n",
       "      <th>662</th>\n",
       "      <td>1</td>\n",
       "      <td>0</td>\n",
       "      <td>1</td>\n",
       "      <td>0</td>\n",
       "    </tr>\n",
       "    <tr>\n",
       "      <th>663</th>\n",
       "      <td>1</td>\n",
       "      <td>1</td>\n",
       "      <td>1</td>\n",
       "      <td>0</td>\n",
       "    </tr>\n",
       "    <tr>\n",
       "      <th>664</th>\n",
       "      <td>1</td>\n",
       "      <td>1</td>\n",
       "      <td>1</td>\n",
       "      <td>1</td>\n",
       "    </tr>\n",
       "    <tr>\n",
       "      <th>665</th>\n",
       "      <td>1</td>\n",
       "      <td>1</td>\n",
       "      <td>1</td>\n",
       "      <td>1</td>\n",
       "    </tr>\n",
       "    <tr>\n",
       "      <th>666</th>\n",
       "      <td>1</td>\n",
       "      <td>0</td>\n",
       "      <td>0</td>\n",
       "      <td>0</td>\n",
       "    </tr>\n",
       "    <tr>\n",
       "      <th>667</th>\n",
       "      <td>1</td>\n",
       "      <td>1</td>\n",
       "      <td>1</td>\n",
       "      <td>0</td>\n",
       "    </tr>\n",
       "    <tr>\n",
       "      <th>668</th>\n",
       "      <td>1</td>\n",
       "      <td>1</td>\n",
       "      <td>0</td>\n",
       "      <td>0</td>\n",
       "    </tr>\n",
       "    <tr>\n",
       "      <th>669</th>\n",
       "      <td>1</td>\n",
       "      <td>1</td>\n",
       "      <td>1</td>\n",
       "      <td>0</td>\n",
       "    </tr>\n",
       "    <tr>\n",
       "      <th>670</th>\n",
       "      <td>1</td>\n",
       "      <td>0</td>\n",
       "      <td>0</td>\n",
       "      <td>0</td>\n",
       "    </tr>\n",
       "    <tr>\n",
       "      <th>671</th>\n",
       "      <td>1</td>\n",
       "      <td>0</td>\n",
       "      <td>0</td>\n",
       "      <td>0</td>\n",
       "    </tr>\n",
       "    <tr>\n",
       "      <th>672</th>\n",
       "      <td>1</td>\n",
       "      <td>1</td>\n",
       "      <td>1</td>\n",
       "      <td>1</td>\n",
       "    </tr>\n",
       "    <tr>\n",
       "      <th>673</th>\n",
       "      <td>1</td>\n",
       "      <td>1</td>\n",
       "      <td>0</td>\n",
       "      <td>0</td>\n",
       "    </tr>\n",
       "    <tr>\n",
       "      <th>674</th>\n",
       "      <td>1</td>\n",
       "      <td>0</td>\n",
       "      <td>0</td>\n",
       "      <td>0</td>\n",
       "    </tr>\n",
       "    <tr>\n",
       "      <th>675</th>\n",
       "      <td>1</td>\n",
       "      <td>0</td>\n",
       "      <td>0</td>\n",
       "      <td>0</td>\n",
       "    </tr>\n",
       "    <tr>\n",
       "      <th>676</th>\n",
       "      <td>1</td>\n",
       "      <td>1</td>\n",
       "      <td>1</td>\n",
       "      <td>1</td>\n",
       "    </tr>\n",
       "    <tr>\n",
       "      <th>677</th>\n",
       "      <td>1</td>\n",
       "      <td>1</td>\n",
       "      <td>1</td>\n",
       "      <td>1</td>\n",
       "    </tr>\n",
       "    <tr>\n",
       "      <th>678</th>\n",
       "      <td>1</td>\n",
       "      <td>0</td>\n",
       "      <td>0</td>\n",
       "      <td>0</td>\n",
       "    </tr>\n",
       "    <tr>\n",
       "      <th>679</th>\n",
       "      <td>1</td>\n",
       "      <td>0</td>\n",
       "      <td>0</td>\n",
       "      <td>0</td>\n",
       "    </tr>\n",
       "    <tr>\n",
       "      <th>680</th>\n",
       "      <td>1</td>\n",
       "      <td>0</td>\n",
       "      <td>0</td>\n",
       "      <td>0</td>\n",
       "    </tr>\n",
       "    <tr>\n",
       "      <th>681</th>\n",
       "      <td>1</td>\n",
       "      <td>0</td>\n",
       "      <td>0</td>\n",
       "      <td>0</td>\n",
       "    </tr>\n",
       "    <tr>\n",
       "      <th>682</th>\n",
       "      <td>1</td>\n",
       "      <td>0</td>\n",
       "      <td>0</td>\n",
       "      <td>0</td>\n",
       "    </tr>\n",
       "    <tr>\n",
       "      <th>683</th>\n",
       "      <td>1</td>\n",
       "      <td>0</td>\n",
       "      <td>0</td>\n",
       "      <td>0</td>\n",
       "    </tr>\n",
       "    <tr>\n",
       "      <th>684</th>\n",
       "      <td>1</td>\n",
       "      <td>0</td>\n",
       "      <td>0</td>\n",
       "      <td>0</td>\n",
       "    </tr>\n",
       "    <tr>\n",
       "      <th>685</th>\n",
       "      <td>1</td>\n",
       "      <td>1</td>\n",
       "      <td>1</td>\n",
       "      <td>1</td>\n",
       "    </tr>\n",
       "    <tr>\n",
       "      <th>686</th>\n",
       "      <td>1</td>\n",
       "      <td>0</td>\n",
       "      <td>0</td>\n",
       "      <td>0</td>\n",
       "    </tr>\n",
       "  </tbody>\n",
       "</table>\n",
       "<p>687 rows × 4 columns</p>\n",
       "</div>"
      ],
      "text/plain": [
       "     fails_1_1_before  fails_1_1_after  fails_1_2_before  fails_1_2_after\n",
       "0                   0                0                 0                0\n",
       "1                   0                0                 0                0\n",
       "2                   0                0                 0                0\n",
       "3                   0                0                 0                0\n",
       "4                   0                0                 0                0\n",
       "..                ...              ...               ...              ...\n",
       "682                 1                0                 0                0\n",
       "683                 1                0                 0                0\n",
       "684                 1                0                 0                0\n",
       "685                 1                1                 1                1\n",
       "686                 1                0                 0                0\n",
       "\n",
       "[687 rows x 4 columns]"
      ]
     },
     "execution_count": 26,
     "metadata": {},
     "output_type": "execute_result"
    }
   ],
   "source": [
    "cols = [\"fails_1_1_before\",\"fails_1_1_after\",\"fails_1_2_before\",\"fails_1_2_after\"]\n",
    "first_year[cols] = first_year[cols].replace({np.nan:0, 'Да':1})\n",
    "first_year[cols]"
   ]
  },
  {
   "cell_type": "markdown",
   "metadata": {},
   "source": [
    "для года зачисления:"
   ]
  },
  {
   "cell_type": "code",
   "execution_count": 27,
   "metadata": {},
   "outputs": [],
   "source": [
    "enrol_year = first_year['enrol_year']\n",
    "first_year = pd.get_dummies(first_year, columns=['enrol_year'])\n",
    "first_year['enrol_year'] = enrol_year"
   ]
  },
  {
   "cell_type": "markdown",
   "metadata": {},
   "source": [
    "для абстрактного \"выбыл все-таки или нет\":"
   ]
  },
  {
   "cell_type": "code",
   "execution_count": 28,
   "metadata": {},
   "outputs": [],
   "source": [
    "filter_col = [col for col in first_year if col.startswith('dropout')]\n",
    "first_year[\"dropout\"] = first_year[filter_col].sum(axis = 1)\n",
    "\n",
    "first_year[filter_col] = first_year[filter_col].replace({np.nan:0})"
   ]
  },
  {
   "cell_type": "markdown",
   "metadata": {},
   "source": [
    "### н/я (ув) заменить на оценку after, остальное - на 0 ИЛИ н/я (ув) заменить на оценку after, сделать дамми для пересдачи по колонке before, а для after если оценка все еще не в [4-10] поставить 0 и сделать дамми есть ИУП?"
   ]
  },
  {
   "cell_type": "code",
   "execution_count": 29,
   "metadata": {},
   "outputs": [],
   "source": [
    "filter_col = [col for col in first_year if col.endswith('before')\n",
    "              and not col.startswith('fails')|col.startswith('rank')|col.startswith('min')|col.startswith('avg')]\n",
    "for col in filter_col:\n",
    "    after = col.split(\"before\")[0]+\"after\"\n",
    "    first_year[col].replace([0, 1, 2, 3, \"н/я\", \"нет оценки *\", np.nan], 0, inplace=True)\n",
    "    first_year[after].replace([0, 1, 2, 3, \"н/я\", \"нет оценки *\", \"н/я (ув)\", np.nan], 0, inplace=True)\n",
    "    \n",
    "    for i in range(len(first_year[col])):\n",
    "        if first_year.loc[i,col] == \"н/я (ув)\":\n",
    "            first_year.loc[i,col] = first_year.loc[i,after]"
   ]
  },
  {
   "cell_type": "markdown",
   "metadata": {},
   "source": [
    "дескприптивные статастики:"
   ]
  },
  {
   "cell_type": "markdown",
   "metadata": {},
   "source": [
    "нужно изменить типы object на int:"
   ]
  },
  {
   "cell_type": "code",
   "execution_count": 30,
   "metadata": {},
   "outputs": [],
   "source": [
    "filter_col = [col for col in first_year if col.startswith('avg')|col.startswith('min')|col.startswith('rank')]\n",
    "for col in filter_col:\n",
    "    first_year[col].replace([np.nan], 0, inplace=True)"
   ]
  },
  {
   "cell_type": "code",
   "execution_count": 31,
   "metadata": {},
   "outputs": [
    {
     "data": {
      "text/html": [
       "<div>\n",
       "<style scoped>\n",
       "    .dataframe tbody tr th:only-of-type {\n",
       "        vertical-align: middle;\n",
       "    }\n",
       "\n",
       "    .dataframe tbody tr th {\n",
       "        vertical-align: top;\n",
       "    }\n",
       "\n",
       "    .dataframe thead th {\n",
       "        text-align: right;\n",
       "    }\n",
       "</style>\n",
       "<table border=\"1\" class=\"dataframe\">\n",
       "  <thead>\n",
       "    <tr style=\"text-align: right;\">\n",
       "      <th></th>\n",
       "      <th>id</th>\n",
       "      <th>gender</th>\n",
       "      <th>rank_1_1_before</th>\n",
       "      <th>avg_score_1_1_before</th>\n",
       "      <th>min_score_1_1_before</th>\n",
       "      <th>fails_1_1_before</th>\n",
       "      <th>safety_before</th>\n",
       "      <th>history_before</th>\n",
       "      <th>lin_alg_before</th>\n",
       "      <th>calculus_1_before</th>\n",
       "      <th>...</th>\n",
       "      <th>phil_after</th>\n",
       "      <th>dropout_after_1_1</th>\n",
       "      <th>dropout_before_1_2</th>\n",
       "      <th>dropout_after_1_2</th>\n",
       "      <th>dropout_before_2_1</th>\n",
       "      <th>enrol_year_2015</th>\n",
       "      <th>enrol_year_2016</th>\n",
       "      <th>enrol_year_2017</th>\n",
       "      <th>enrol_year</th>\n",
       "      <th>dropout</th>\n",
       "    </tr>\n",
       "  </thead>\n",
       "  <tbody>\n",
       "  </tbody>\n",
       "</table>\n",
       "<p>0 rows × 49 columns</p>\n",
       "</div>"
      ],
      "text/plain": [
       "Empty DataFrame\n",
       "Columns: [id, gender, rank_1_1_before, avg_score_1_1_before, min_score_1_1_before, fails_1_1_before, safety_before, history_before, lin_alg_before, calculus_1_before, economics_before, rank_1_1_after, avg_score_1_1_after, min_score_1_1_after, fails_1_1_after, safety_after, history_after, lin_alg_after, calculus_1_after, economics_after, rank_1_2_before, avg_score_1_2_before, min_score_1_2_before, fails_1_2_before, eng_before, discrete_math_before, programming_before, project_sem_before, theor_info_before, phil_before, rank_1_2_after, avg_score_1_2_after, min_score_1_2_after, fails_1_2_after, eng_after, discrete_math_after, programming_after, project_sem_after, theor_info_after, phil_after, dropout_after_1_1, dropout_before_1_2, dropout_after_1_2, dropout_before_2_1, enrol_year_2015, enrol_year_2016, enrol_year_2017, enrol_year, dropout]\n",
       "Index: []\n",
       "\n",
       "[0 rows x 49 columns]"
      ]
     },
     "execution_count": 31,
     "metadata": {},
     "output_type": "execute_result"
    }
   ],
   "source": [
    "first_year[first_year.isna().any(axis=1)]\n",
    "first_year[first_year.isin([\"н/я (ув)\"]).any(axis=1)]"
   ]
  },
  {
   "cell_type": "code",
   "execution_count": 32,
   "metadata": {},
   "outputs": [],
   "source": [
    "first_year = first_year.apply(pd.to_numeric)"
   ]
  },
  {
   "cell_type": "code",
   "execution_count": 33,
   "metadata": {},
   "outputs": [
    {
     "data": {
      "text/html": [
       "<div>\n",
       "<style scoped>\n",
       "    .dataframe tbody tr th:only-of-type {\n",
       "        vertical-align: middle;\n",
       "    }\n",
       "\n",
       "    .dataframe tbody tr th {\n",
       "        vertical-align: top;\n",
       "    }\n",
       "\n",
       "    .dataframe thead th {\n",
       "        text-align: right;\n",
       "    }\n",
       "</style>\n",
       "<table border=\"1\" class=\"dataframe\">\n",
       "  <thead>\n",
       "    <tr style=\"text-align: right;\">\n",
       "      <th></th>\n",
       "      <th>count</th>\n",
       "      <th>mean</th>\n",
       "      <th>std</th>\n",
       "    </tr>\n",
       "  </thead>\n",
       "  <tbody>\n",
       "    <tr>\n",
       "      <th>avg_score_1_1_before</th>\n",
       "      <td>687.0</td>\n",
       "      <td>6.687559</td>\n",
       "      <td>1.351668</td>\n",
       "    </tr>\n",
       "    <tr>\n",
       "      <th>min_score_1_1_before</th>\n",
       "      <td>687.0</td>\n",
       "      <td>4.039301</td>\n",
       "      <td>2.028205</td>\n",
       "    </tr>\n",
       "    <tr>\n",
       "      <th>fails_1_1_before</th>\n",
       "      <td>687.0</td>\n",
       "      <td>0.474527</td>\n",
       "      <td>0.499715</td>\n",
       "    </tr>\n",
       "    <tr>\n",
       "      <th>safety_before</th>\n",
       "      <td>687.0</td>\n",
       "      <td>9.066958</td>\n",
       "      <td>1.158641</td>\n",
       "    </tr>\n",
       "    <tr>\n",
       "      <th>history_before</th>\n",
       "      <td>687.0</td>\n",
       "      <td>7.042213</td>\n",
       "      <td>2.655040</td>\n",
       "    </tr>\n",
       "    <tr>\n",
       "      <th>lin_alg_before</th>\n",
       "      <td>687.0</td>\n",
       "      <td>4.561863</td>\n",
       "      <td>3.261472</td>\n",
       "    </tr>\n",
       "    <tr>\n",
       "      <th>calculus_1_before</th>\n",
       "      <td>687.0</td>\n",
       "      <td>3.088792</td>\n",
       "      <td>2.983820</td>\n",
       "    </tr>\n",
       "    <tr>\n",
       "      <th>economics_before</th>\n",
       "      <td>687.0</td>\n",
       "      <td>5.509461</td>\n",
       "      <td>2.382421</td>\n",
       "    </tr>\n",
       "    <tr>\n",
       "      <th>avg_score_1_1_after</th>\n",
       "      <td>687.0</td>\n",
       "      <td>6.530755</td>\n",
       "      <td>1.937295</td>\n",
       "    </tr>\n",
       "    <tr>\n",
       "      <th>min_score_1_1_after</th>\n",
       "      <td>687.0</td>\n",
       "      <td>4.443959</td>\n",
       "      <td>1.834077</td>\n",
       "    </tr>\n",
       "    <tr>\n",
       "      <th>fails_1_1_after</th>\n",
       "      <td>687.0</td>\n",
       "      <td>0.114993</td>\n",
       "      <td>0.319246</td>\n",
       "    </tr>\n",
       "    <tr>\n",
       "      <th>safety_after</th>\n",
       "      <td>687.0</td>\n",
       "      <td>8.652111</td>\n",
       "      <td>2.310407</td>\n",
       "    </tr>\n",
       "    <tr>\n",
       "      <th>history_after</th>\n",
       "      <td>687.0</td>\n",
       "      <td>6.866084</td>\n",
       "      <td>2.820603</td>\n",
       "    </tr>\n",
       "    <tr>\n",
       "      <th>lin_alg_after</th>\n",
       "      <td>687.0</td>\n",
       "      <td>5.125182</td>\n",
       "      <td>2.795048</td>\n",
       "    </tr>\n",
       "    <tr>\n",
       "      <th>calculus_1_after</th>\n",
       "      <td>687.0</td>\n",
       "      <td>4.138282</td>\n",
       "      <td>2.544033</td>\n",
       "    </tr>\n",
       "    <tr>\n",
       "      <th>economics_after</th>\n",
       "      <td>687.0</td>\n",
       "      <td>5.631732</td>\n",
       "      <td>2.198538</td>\n",
       "    </tr>\n",
       "    <tr>\n",
       "      <th>avg_score_1_2_before</th>\n",
       "      <td>687.0</td>\n",
       "      <td>5.666249</td>\n",
       "      <td>2.592501</td>\n",
       "    </tr>\n",
       "    <tr>\n",
       "      <th>min_score_1_2_before</th>\n",
       "      <td>687.0</td>\n",
       "      <td>3.445415</td>\n",
       "      <td>2.255445</td>\n",
       "    </tr>\n",
       "    <tr>\n",
       "      <th>fails_1_2_before</th>\n",
       "      <td>687.0</td>\n",
       "      <td>0.441048</td>\n",
       "      <td>0.496874</td>\n",
       "    </tr>\n",
       "    <tr>\n",
       "      <th>eng_before</th>\n",
       "      <td>687.0</td>\n",
       "      <td>6.046579</td>\n",
       "      <td>3.096718</td>\n",
       "    </tr>\n",
       "    <tr>\n",
       "      <th>discrete_math_before</th>\n",
       "      <td>687.0</td>\n",
       "      <td>4.639010</td>\n",
       "      <td>3.489358</td>\n",
       "    </tr>\n",
       "    <tr>\n",
       "      <th>programming_before</th>\n",
       "      <td>687.0</td>\n",
       "      <td>5.644833</td>\n",
       "      <td>3.207894</td>\n",
       "    </tr>\n",
       "    <tr>\n",
       "      <th>project_sem_before</th>\n",
       "      <td>687.0</td>\n",
       "      <td>5.531295</td>\n",
       "      <td>2.894419</td>\n",
       "    </tr>\n",
       "    <tr>\n",
       "      <th>theor_info_before</th>\n",
       "      <td>687.0</td>\n",
       "      <td>6.569141</td>\n",
       "      <td>2.902313</td>\n",
       "    </tr>\n",
       "    <tr>\n",
       "      <th>phil_before</th>\n",
       "      <td>687.0</td>\n",
       "      <td>6.229985</td>\n",
       "      <td>3.258911</td>\n",
       "    </tr>\n",
       "    <tr>\n",
       "      <th>avg_score_1_2_after</th>\n",
       "      <td>687.0</td>\n",
       "      <td>5.486645</td>\n",
       "      <td>2.922739</td>\n",
       "    </tr>\n",
       "    <tr>\n",
       "      <th>min_score_1_2_after</th>\n",
       "      <td>687.0</td>\n",
       "      <td>3.710335</td>\n",
       "      <td>2.270150</td>\n",
       "    </tr>\n",
       "    <tr>\n",
       "      <th>fails_1_2_after</th>\n",
       "      <td>687.0</td>\n",
       "      <td>0.138282</td>\n",
       "      <td>0.345448</td>\n",
       "    </tr>\n",
       "    <tr>\n",
       "      <th>eng_after</th>\n",
       "      <td>687.0</td>\n",
       "      <td>5.823872</td>\n",
       "      <td>3.241874</td>\n",
       "    </tr>\n",
       "    <tr>\n",
       "      <th>discrete_math_after</th>\n",
       "      <td>687.0</td>\n",
       "      <td>5.008734</td>\n",
       "      <td>3.231123</td>\n",
       "    </tr>\n",
       "    <tr>\n",
       "      <th>programming_after</th>\n",
       "      <td>687.0</td>\n",
       "      <td>5.705968</td>\n",
       "      <td>3.129053</td>\n",
       "    </tr>\n",
       "    <tr>\n",
       "      <th>project_sem_after</th>\n",
       "      <td>687.0</td>\n",
       "      <td>5.301310</td>\n",
       "      <td>3.044526</td>\n",
       "    </tr>\n",
       "    <tr>\n",
       "      <th>theor_info_after</th>\n",
       "      <td>687.0</td>\n",
       "      <td>6.327511</td>\n",
       "      <td>3.153348</td>\n",
       "    </tr>\n",
       "    <tr>\n",
       "      <th>phil_after</th>\n",
       "      <td>687.0</td>\n",
       "      <td>5.969432</td>\n",
       "      <td>3.451107</td>\n",
       "    </tr>\n",
       "  </tbody>\n",
       "</table>\n",
       "</div>"
      ],
      "text/plain": [
       "                      count      mean       std\n",
       "avg_score_1_1_before  687.0  6.687559  1.351668\n",
       "min_score_1_1_before  687.0  4.039301  2.028205\n",
       "fails_1_1_before      687.0  0.474527  0.499715\n",
       "safety_before         687.0  9.066958  1.158641\n",
       "history_before        687.0  7.042213  2.655040\n",
       "lin_alg_before        687.0  4.561863  3.261472\n",
       "calculus_1_before     687.0  3.088792  2.983820\n",
       "economics_before      687.0  5.509461  2.382421\n",
       "avg_score_1_1_after   687.0  6.530755  1.937295\n",
       "min_score_1_1_after   687.0  4.443959  1.834077\n",
       "fails_1_1_after       687.0  0.114993  0.319246\n",
       "safety_after          687.0  8.652111  2.310407\n",
       "history_after         687.0  6.866084  2.820603\n",
       "lin_alg_after         687.0  5.125182  2.795048\n",
       "calculus_1_after      687.0  4.138282  2.544033\n",
       "economics_after       687.0  5.631732  2.198538\n",
       "avg_score_1_2_before  687.0  5.666249  2.592501\n",
       "min_score_1_2_before  687.0  3.445415  2.255445\n",
       "fails_1_2_before      687.0  0.441048  0.496874\n",
       "eng_before            687.0  6.046579  3.096718\n",
       "discrete_math_before  687.0  4.639010  3.489358\n",
       "programming_before    687.0  5.644833  3.207894\n",
       "project_sem_before    687.0  5.531295  2.894419\n",
       "theor_info_before     687.0  6.569141  2.902313\n",
       "phil_before           687.0  6.229985  3.258911\n",
       "avg_score_1_2_after   687.0  5.486645  2.922739\n",
       "min_score_1_2_after   687.0  3.710335  2.270150\n",
       "fails_1_2_after       687.0  0.138282  0.345448\n",
       "eng_after             687.0  5.823872  3.241874\n",
       "discrete_math_after   687.0  5.008734  3.231123\n",
       "programming_after     687.0  5.705968  3.129053\n",
       "project_sem_after     687.0  5.301310  3.044526\n",
       "theor_info_after      687.0  6.327511  3.153348\n",
       "phil_after            687.0  5.969432  3.451107"
      ]
     },
     "execution_count": 33,
     "metadata": {},
     "output_type": "execute_result"
    }
   ],
   "source": [
    "filter_col = [col for col in first_year if col.endswith('before')|col.endswith('after')\n",
    "              and not col.startswith('rank')]\n",
    "desc = first_year[filter_col].describe()\n",
    "desc = desc.transpose().loc[:, 'count':'std']\n",
    "desc"
   ]
  },
  {
   "cell_type": "markdown",
   "metadata": {},
   "source": [
    "для латеха"
   ]
  },
  {
   "cell_type": "code",
   "execution_count": 34,
   "metadata": {},
   "outputs": [
    {
     "name": "stdout",
     "output_type": "stream",
     "text": [
      "\\begin{tabular}{lrrr}\n",
      "\\toprule\n",
      "\\textbf{avg\\_score\\_1\\_1\\_before} &  687.0 &  6.687559 &  1.351668 \\\\\n",
      "\\textbf{min\\_score\\_1\\_1\\_before} &  687.0 &  4.039301 &  2.028205 \\\\\n",
      "\\textbf{fails\\_1\\_1\\_before    } &  687.0 &  0.474527 &  0.499715 \\\\\n",
      "\\textbf{safety\\_before       } &  687.0 &  9.066958 &  1.158641 \\\\\n",
      "\\textbf{history\\_before      } &  687.0 &  7.042213 &  2.655040 \\\\\n",
      "\\textbf{lin\\_alg\\_before      } &  687.0 &  4.561863 &  3.261472 \\\\\n",
      "\\textbf{calculus\\_1\\_before   } &  687.0 &  3.088792 &  2.983820 \\\\\n",
      "\\textbf{economics\\_before    } &  687.0 &  5.509461 &  2.382421 \\\\\n",
      "\\textbf{avg\\_score\\_1\\_1\\_after } &  687.0 &  6.530755 &  1.937295 \\\\\n",
      "\\textbf{min\\_score\\_1\\_1\\_after } &  687.0 &  4.443959 &  1.834077 \\\\\n",
      "\\textbf{fails\\_1\\_1\\_after     } &  687.0 &  0.114993 &  0.319246 \\\\\n",
      "\\textbf{safety\\_after        } &  687.0 &  8.652111 &  2.310407 \\\\\n",
      "\\textbf{history\\_after       } &  687.0 &  6.866084 &  2.820603 \\\\\n",
      "\\textbf{lin\\_alg\\_after       } &  687.0 &  5.125182 &  2.795048 \\\\\n",
      "\\textbf{calculus\\_1\\_after    } &  687.0 &  4.138282 &  2.544033 \\\\\n",
      "\\textbf{economics\\_after     } &  687.0 &  5.631732 &  2.198538 \\\\\n",
      "\\textbf{avg\\_score\\_1\\_2\\_before} &  687.0 &  5.666249 &  2.592501 \\\\\n",
      "\\textbf{min\\_score\\_1\\_2\\_before} &  687.0 &  3.445415 &  2.255445 \\\\\n",
      "\\textbf{fails\\_1\\_2\\_before    } &  687.0 &  0.441048 &  0.496874 \\\\\n",
      "\\textbf{eng\\_before          } &  687.0 &  6.046579 &  3.096718 \\\\\n",
      "\\textbf{discrete\\_math\\_before} &  687.0 &  4.639010 &  3.489358 \\\\\n",
      "\\textbf{programming\\_before  } &  687.0 &  5.644833 &  3.207894 \\\\\n",
      "\\textbf{project\\_sem\\_before  } &  687.0 &  5.531295 &  2.894419 \\\\\n",
      "\\textbf{theor\\_info\\_before   } &  687.0 &  6.569141 &  2.902313 \\\\\n",
      "\\textbf{phil\\_before         } &  687.0 &  6.229985 &  3.258911 \\\\\n",
      "\\textbf{avg\\_score\\_1\\_2\\_after } &  687.0 &  5.486645 &  2.922739 \\\\\n",
      "\\textbf{min\\_score\\_1\\_2\\_after } &  687.0 &  3.710335 &  2.270150 \\\\\n",
      "\\textbf{fails\\_1\\_2\\_after     } &  687.0 &  0.138282 &  0.345448 \\\\\n",
      "\\textbf{eng\\_after           } &  687.0 &  5.823872 &  3.241874 \\\\\n",
      "\\textbf{discrete\\_math\\_after } &  687.0 &  5.008734 &  3.231123 \\\\\n",
      "\\textbf{programming\\_after   } &  687.0 &  5.705968 &  3.129053 \\\\\n",
      "\\textbf{project\\_sem\\_after   } &  687.0 &  5.301310 &  3.044526 \\\\\n",
      "\\textbf{theor\\_info\\_after    } &  687.0 &  6.327511 &  3.153348 \\\\\n",
      "\\textbf{phil\\_after          } &  687.0 &  5.969432 &  3.451107 \\\\\n",
      "\\bottomrule\n",
      "\\end{tabular}\n",
      "\n"
     ]
    }
   ],
   "source": [
    "print(desc.to_latex(index=True, header = False, bold_rows = True))"
   ]
  },
  {
   "cell_type": "markdown",
   "metadata": {},
   "source": [
    "сохраняем еще раз"
   ]
  },
  {
   "cell_type": "code",
   "execution_count": 35,
   "metadata": {},
   "outputs": [],
   "source": [
    "pickle.dump(first_year, open('first_year.dat', 'wb'))"
   ]
  },
  {
   "cell_type": "code",
   "execution_count": 36,
   "metadata": {},
   "outputs": [],
   "source": [
    "first_year = pd.read_pickle('first_year.dat')"
   ]
  },
  {
   "cell_type": "markdown",
   "metadata": {},
   "source": [
    "## Перепоступившие"
   ]
  },
  {
   "cell_type": "code",
   "execution_count": 37,
   "metadata": {},
   "outputs": [],
   "source": [
    "l = [before_2015_1_1, before_2016_1_1, before_2017_1_1, before_2018_1_1,before_2019_1_1]"
   ]
  },
  {
   "cell_type": "code",
   "execution_count": 38,
   "metadata": {},
   "outputs": [],
   "source": [
    "lens = []\n",
    "for i in range(len(l)-1):\n",
    "    ids = pd.merge(l[i],l[i+1],on = \"name\")\n",
    "    lens.append(len(ids))"
   ]
  },
  {
   "cell_type": "code",
   "execution_count": 39,
   "metadata": {},
   "outputs": [
    {
     "data": {
      "text/plain": [
       "[2, 7, 7, 13]"
      ]
     },
     "execution_count": 39,
     "metadata": {},
     "output_type": "execute_result"
    }
   ],
   "source": [
    "lens"
   ]
  },
  {
   "cell_type": "code",
   "execution_count": 40,
   "metadata": {},
   "outputs": [
    {
     "data": {
      "image/png": "[encoded data removed]",
      "text/plain": [
       "<Figure size 432x288 with 1 Axes>"
      ]
     },
     "metadata": {
      "needs_background": "light"
     },
     "output_type": "display_data"
    }
   ],
   "source": [
    "plt.figure()\n",
    "plt.plot(lens)\n",
    "plt.xticks(np.arange(4),(\"2016\",\"2017\",\"2018\",\"2019\"), rotation=90, **hfont)\n",
    "plt.xlabel('Год повторного поступления',**hfont, labelpad=20)\n",
    "plt.ylabel('Число перепоступивших',**hfont)\n",
    "plt.savefig('re.png', dpi=300, bbox_inches=\"tight\")"
   ]
  },
  {
   "cell_type": "markdown",
   "metadata": {},
   "source": [
    "Отношение отчисленных к зачисленным:"
   ]
  },
  {
   "cell_type": "code",
   "execution_count": 41,
   "metadata": {},
   "outputs": [
    {
     "data": {
      "text/plain": [
       "([51.0, 51.0, 43.0],\n",
       " [217, 230, 240],\n",
       " array([23.50230415, 22.17391304, 17.91666667]))"
      ]
     },
     "execution_count": 41,
     "metadata": {},
     "output_type": "execute_result"
    }
   ],
   "source": [
    "dropout_sum = first_year.groupby([\"enrol_year\"]).sum()[\"dropout\"].to_list()\n",
    "enrolled = first_year.groupby([\"enrol_year\"]).count()[\"id\"].to_list()\n",
    "\n",
    "a=np.array(dropout_sum, dtype=np.float)\n",
    "b=np.array(enrolled, dtype=np.float)\n",
    "dropout_rate = a/b\n",
    "\n",
    "dropout_sum, enrolled, dropout_rate*100"
   ]
  },
  {
   "cell_type": "code",
   "execution_count": 42,
   "metadata": {},
   "outputs": [
    {
     "data": {
      "image/png": "[encoded data removed]",
      "text/plain": [
       "<Figure size 432x288 with 1 Axes>"
      ]
     },
     "metadata": {
      "needs_background": "light"
     },
     "output_type": "display_data"
    }
   ],
   "source": [
    "plt.figure()\n",
    "plt.plot(dropout_rate*100)\n",
    "plt.xticks(np.arange(3),(\"2015\",\"2016\",\"2017\"), rotation=90, **hfont)\n",
    "plt.xlabel('Год поступления', **hfont, labelpad=20)\n",
    "plt.ylabel('Отчисленные, % от зачисленных',**hfont)\n",
    "plt.savefig('dropout_rate.png', dpi=300, bbox_inches=\"tight\")"
   ]
  },
  {
   "cell_type": "markdown",
   "metadata": {},
   "source": [
    "Гендерный состав:"
   ]
  },
  {
   "cell_type": "code",
   "execution_count": 43,
   "metadata": {},
   "outputs": [
    {
     "data": {
      "text/html": [
       "<div>\n",
       "<style scoped>\n",
       "    .dataframe tbody tr th:only-of-type {\n",
       "        vertical-align: middle;\n",
       "    }\n",
       "\n",
       "    .dataframe tbody tr th {\n",
       "        vertical-align: top;\n",
       "    }\n",
       "\n",
       "    .dataframe thead th {\n",
       "        text-align: right;\n",
       "    }\n",
       "</style>\n",
       "<table border=\"1\" class=\"dataframe\">\n",
       "  <thead>\n",
       "    <tr style=\"text-align: right;\">\n",
       "      <th></th>\n",
       "      <th>male</th>\n",
       "      <th>female</th>\n",
       "    </tr>\n",
       "    <tr>\n",
       "      <th>enrol_year</th>\n",
       "      <th></th>\n",
       "      <th></th>\n",
       "    </tr>\n",
       "  </thead>\n",
       "  <tbody>\n",
       "    <tr>\n",
       "      <th>2015</th>\n",
       "      <td>57.142857</td>\n",
       "      <td>42.857143</td>\n",
       "    </tr>\n",
       "    <tr>\n",
       "      <th>2016</th>\n",
       "      <td>57.391304</td>\n",
       "      <td>42.608696</td>\n",
       "    </tr>\n",
       "    <tr>\n",
       "      <th>2017</th>\n",
       "      <td>65.000000</td>\n",
       "      <td>35.000000</td>\n",
       "    </tr>\n",
       "  </tbody>\n",
       "</table>\n",
       "</div>"
      ],
      "text/plain": [
       "                 male     female\n",
       "enrol_year                      \n",
       "2015        57.142857  42.857143\n",
       "2016        57.391304  42.608696\n",
       "2017        65.000000  35.000000"
      ]
     },
     "execution_count": 43,
     "metadata": {},
     "output_type": "execute_result"
    }
   ],
   "source": [
    "men = first_year.groupby([\"enrol_year\"]).sum()[\"gender\"].to_list()\n",
    "a=np.array(men, dtype=np.float)\n",
    "b=np.array(enrolled, dtype=np.float)\n",
    "#юноши, девушки\n",
    "gender_count = pd.DataFrame()\n",
    "gender_count[\"enrol_year\"] = [2015,2016,2017]\n",
    "gender_count[\"male\"] = list(a*100/b)\n",
    "gender_count[\"female\"] = list(100-a*100/b)\n",
    "gender_count.set_index('enrol_year',inplace=True)\n",
    "gender_count"
   ]
  },
  {
   "cell_type": "code",
   "execution_count": 44,
   "metadata": {},
   "outputs": [
    {
     "data": {
      "text/html": [
       "<div>\n",
       "<style scoped>\n",
       "    .dataframe tbody tr th:only-of-type {\n",
       "        vertical-align: middle;\n",
       "    }\n",
       "\n",
       "    .dataframe tbody tr th {\n",
       "        vertical-align: top;\n",
       "    }\n",
       "\n",
       "    .dataframe thead th {\n",
       "        text-align: right;\n",
       "    }\n",
       "</style>\n",
       "<table border=\"1\" class=\"dataframe\">\n",
       "  <thead>\n",
       "    <tr style=\"text-align: right;\">\n",
       "      <th></th>\n",
       "      <th></th>\n",
       "      <th>dropout</th>\n",
       "    </tr>\n",
       "    <tr>\n",
       "      <th>enrol_year</th>\n",
       "      <th>gender</th>\n",
       "      <th></th>\n",
       "    </tr>\n",
       "  </thead>\n",
       "  <tbody>\n",
       "    <tr>\n",
       "      <th rowspan=\"2\" valign=\"top\">2015</th>\n",
       "      <th>0</th>\n",
       "      <td>22.0</td>\n",
       "    </tr>\n",
       "    <tr>\n",
       "      <th>1</th>\n",
       "      <td>29.0</td>\n",
       "    </tr>\n",
       "    <tr>\n",
       "      <th rowspan=\"2\" valign=\"top\">2016</th>\n",
       "      <th>0</th>\n",
       "      <td>21.0</td>\n",
       "    </tr>\n",
       "    <tr>\n",
       "      <th>1</th>\n",
       "      <td>30.0</td>\n",
       "    </tr>\n",
       "    <tr>\n",
       "      <th rowspan=\"2\" valign=\"top\">2017</th>\n",
       "      <th>0</th>\n",
       "      <td>12.0</td>\n",
       "    </tr>\n",
       "    <tr>\n",
       "      <th>1</th>\n",
       "      <td>31.0</td>\n",
       "    </tr>\n",
       "  </tbody>\n",
       "</table>\n",
       "</div>"
      ],
      "text/plain": [
       "                   dropout\n",
       "enrol_year gender         \n",
       "2015       0          22.0\n",
       "           1          29.0\n",
       "2016       0          21.0\n",
       "           1          30.0\n",
       "2017       0          12.0\n",
       "           1          31.0"
      ]
     },
     "execution_count": 44,
     "metadata": {},
     "output_type": "execute_result"
    }
   ],
   "source": [
    "table = pd.DataFrame(first_year.groupby([\"enrol_year\",\"gender\"]).sum()[\"dropout\"])\n",
    "table"
   ]
  },
  {
   "cell_type": "markdown",
   "metadata": {},
   "source": [
    "пересдачи по годам по предметам:"
   ]
  },
  {
   "cell_type": "code",
   "execution_count": 45,
   "metadata": {},
   "outputs": [
    {
     "data": {
      "text/html": [
       "<div>\n",
       "<style scoped>\n",
       "    .dataframe tbody tr th:only-of-type {\n",
       "        vertical-align: middle;\n",
       "    }\n",
       "\n",
       "    .dataframe tbody tr th {\n",
       "        vertical-align: top;\n",
       "    }\n",
       "\n",
       "    .dataframe thead th {\n",
       "        text-align: right;\n",
       "    }\n",
       "</style>\n",
       "<table border=\"1\" class=\"dataframe\">\n",
       "  <thead>\n",
       "    <tr style=\"text-align: right;\">\n",
       "      <th></th>\n",
       "      <th>safety_before</th>\n",
       "      <th>history_before</th>\n",
       "      <th>lin_alg_before</th>\n",
       "      <th>calculus_1_before</th>\n",
       "      <th>economics_before</th>\n",
       "      <th>eng_before</th>\n",
       "      <th>discrete_math_before</th>\n",
       "      <th>programming_before</th>\n",
       "      <th>project_sem_before</th>\n",
       "      <th>theor_info_before</th>\n",
       "      <th>phil_before</th>\n",
       "    </tr>\n",
       "    <tr>\n",
       "      <th>enrol_year</th>\n",
       "      <th></th>\n",
       "      <th></th>\n",
       "      <th></th>\n",
       "      <th></th>\n",
       "      <th></th>\n",
       "      <th></th>\n",
       "      <th></th>\n",
       "      <th></th>\n",
       "      <th></th>\n",
       "      <th></th>\n",
       "      <th></th>\n",
       "    </tr>\n",
       "  </thead>\n",
       "  <tbody>\n",
       "    <tr>\n",
       "      <th>2015</th>\n",
       "      <td>0</td>\n",
       "      <td>5</td>\n",
       "      <td>57</td>\n",
       "      <td>110</td>\n",
       "      <td>22</td>\n",
       "      <td>42</td>\n",
       "      <td>59</td>\n",
       "      <td>57</td>\n",
       "      <td>40</td>\n",
       "      <td>6</td>\n",
       "      <td>38</td>\n",
       "    </tr>\n",
       "    <tr>\n",
       "      <th>2016</th>\n",
       "      <td>2</td>\n",
       "      <td>46</td>\n",
       "      <td>64</td>\n",
       "      <td>92</td>\n",
       "      <td>31</td>\n",
       "      <td>41</td>\n",
       "      <td>63</td>\n",
       "      <td>18</td>\n",
       "      <td>43</td>\n",
       "      <td>35</td>\n",
       "      <td>47</td>\n",
       "    </tr>\n",
       "    <tr>\n",
       "      <th>2017</th>\n",
       "      <td>0</td>\n",
       "      <td>4</td>\n",
       "      <td>73</td>\n",
       "      <td>98</td>\n",
       "      <td>20</td>\n",
       "      <td>35</td>\n",
       "      <td>87</td>\n",
       "      <td>46</td>\n",
       "      <td>34</td>\n",
       "      <td>36</td>\n",
       "      <td>32</td>\n",
       "    </tr>\n",
       "  </tbody>\n",
       "</table>\n",
       "</div>"
      ],
      "text/plain": [
       "            safety_before  history_before  lin_alg_before  calculus_1_before  \\\n",
       "enrol_year                                                                     \n",
       "2015                    0               5              57                110   \n",
       "2016                    2              46              64                 92   \n",
       "2017                    0               4              73                 98   \n",
       "\n",
       "            economics_before  eng_before  discrete_math_before  \\\n",
       "enrol_year                                                       \n",
       "2015                      22          42                    59   \n",
       "2016                      31          41                    63   \n",
       "2017                      20          35                    87   \n",
       "\n",
       "            programming_before  project_sem_before  theor_info_before  \\\n",
       "enrol_year                                                              \n",
       "2015                        57                  40                  6   \n",
       "2016                        18                  43                 35   \n",
       "2017                        46                  34                 36   \n",
       "\n",
       "            phil_before  \n",
       "enrol_year               \n",
       "2015                 38  \n",
       "2016                 47  \n",
       "2017                 32  "
      ]
     },
     "execution_count": 45,
     "metadata": {},
     "output_type": "execute_result"
    }
   ],
   "source": [
    "courses = [col for col in first_year if col.endswith('before')\n",
    "              and not col.startswith('fails')|col.startswith('rank')|col.startswith('min')|col.startswith('avg')]\n",
    "retakes = first_year.groupby('enrol_year')[courses].apply(lambda x: (x==0).sum())\n",
    "retakes"
   ]
  },
  {
   "cell_type": "markdown",
   "metadata": {},
   "source": [
    "пошли на пересдачу, % от зачисленных"
   ]
  },
  {
   "cell_type": "code",
   "execution_count": 46,
   "metadata": {},
   "outputs": [
    {
     "data": {
      "text/html": [
       "<div>\n",
       "<style scoped>\n",
       "    .dataframe tbody tr th:only-of-type {\n",
       "        vertical-align: middle;\n",
       "    }\n",
       "\n",
       "    .dataframe tbody tr th {\n",
       "        vertical-align: top;\n",
       "    }\n",
       "\n",
       "    .dataframe thead th {\n",
       "        text-align: right;\n",
       "    }\n",
       "</style>\n",
       "<table border=\"1\" class=\"dataframe\">\n",
       "  <thead>\n",
       "    <tr style=\"text-align: right;\">\n",
       "      <th>enrol_year</th>\n",
       "      <th>2015</th>\n",
       "      <th>2016</th>\n",
       "      <th>2017</th>\n",
       "    </tr>\n",
       "  </thead>\n",
       "  <tbody>\n",
       "    <tr>\n",
       "      <th>safety_before</th>\n",
       "      <td>0.00</td>\n",
       "      <td>0.87</td>\n",
       "      <td>0.00</td>\n",
       "    </tr>\n",
       "    <tr>\n",
       "      <th>history_before</th>\n",
       "      <td>2.30</td>\n",
       "      <td>20.00</td>\n",
       "      <td>1.67</td>\n",
       "    </tr>\n",
       "    <tr>\n",
       "      <th>lin_alg_before</th>\n",
       "      <td>26.27</td>\n",
       "      <td>27.83</td>\n",
       "      <td>30.42</td>\n",
       "    </tr>\n",
       "    <tr>\n",
       "      <th>calculus_1_before</th>\n",
       "      <td>50.69</td>\n",
       "      <td>40.00</td>\n",
       "      <td>40.83</td>\n",
       "    </tr>\n",
       "    <tr>\n",
       "      <th>economics_before</th>\n",
       "      <td>10.14</td>\n",
       "      <td>13.48</td>\n",
       "      <td>8.33</td>\n",
       "    </tr>\n",
       "    <tr>\n",
       "      <th>eng_before</th>\n",
       "      <td>19.35</td>\n",
       "      <td>17.83</td>\n",
       "      <td>14.58</td>\n",
       "    </tr>\n",
       "    <tr>\n",
       "      <th>discrete_math_before</th>\n",
       "      <td>27.19</td>\n",
       "      <td>27.39</td>\n",
       "      <td>36.25</td>\n",
       "    </tr>\n",
       "    <tr>\n",
       "      <th>programming_before</th>\n",
       "      <td>26.27</td>\n",
       "      <td>7.83</td>\n",
       "      <td>19.17</td>\n",
       "    </tr>\n",
       "    <tr>\n",
       "      <th>project_sem_before</th>\n",
       "      <td>18.43</td>\n",
       "      <td>18.70</td>\n",
       "      <td>14.17</td>\n",
       "    </tr>\n",
       "    <tr>\n",
       "      <th>theor_info_before</th>\n",
       "      <td>2.76</td>\n",
       "      <td>15.22</td>\n",
       "      <td>15.00</td>\n",
       "    </tr>\n",
       "    <tr>\n",
       "      <th>phil_before</th>\n",
       "      <td>17.51</td>\n",
       "      <td>20.43</td>\n",
       "      <td>13.33</td>\n",
       "    </tr>\n",
       "  </tbody>\n",
       "</table>\n",
       "</div>"
      ],
      "text/plain": [
       "enrol_year             2015   2016   2017\n",
       "safety_before          0.00   0.87   0.00\n",
       "history_before         2.30  20.00   1.67\n",
       "lin_alg_before        26.27  27.83  30.42\n",
       "calculus_1_before     50.69  40.00  40.83\n",
       "economics_before      10.14  13.48   8.33\n",
       "eng_before            19.35  17.83  14.58\n",
       "discrete_math_before  27.19  27.39  36.25\n",
       "programming_before    26.27   7.83  19.17\n",
       "project_sem_before    18.43  18.70  14.17\n",
       "theor_info_before      2.76  15.22  15.00\n",
       "phil_before           17.51  20.43  13.33"
      ]
     },
     "execution_count": 46,
     "metadata": {},
     "output_type": "execute_result"
    }
   ],
   "source": [
    "retakes_pcnt = retakes.div(enrolled, axis = 0)\n",
    "retakes_pcnt = (retakes_pcnt*100).round(2).transpose()\n",
    "retakes_pcnt"
   ]
  },
  {
   "cell_type": "code",
   "execution_count": 47,
   "metadata": {},
   "outputs": [
    {
     "data": {
      "text/html": [
       "<div>\n",
       "<style scoped>\n",
       "    .dataframe tbody tr th:only-of-type {\n",
       "        vertical-align: middle;\n",
       "    }\n",
       "\n",
       "    .dataframe tbody tr th {\n",
       "        vertical-align: top;\n",
       "    }\n",
       "\n",
       "    .dataframe thead th {\n",
       "        text-align: right;\n",
       "    }\n",
       "</style>\n",
       "<table border=\"1\" class=\"dataframe\">\n",
       "  <thead>\n",
       "    <tr style=\"text-align: right;\">\n",
       "      <th>enrol_year</th>\n",
       "      <th>2015</th>\n",
       "      <th>2016</th>\n",
       "      <th>2017</th>\n",
       "    </tr>\n",
       "  </thead>\n",
       "  <tbody>\n",
       "    <tr>\n",
       "      <th>safety_before</th>\n",
       "      <td>10.00</td>\n",
       "      <td>9.91</td>\n",
       "      <td>10.00</td>\n",
       "    </tr>\n",
       "    <tr>\n",
       "      <th>history_before</th>\n",
       "      <td>9.77</td>\n",
       "      <td>8.00</td>\n",
       "      <td>9.83</td>\n",
       "    </tr>\n",
       "    <tr>\n",
       "      <th>lin_alg_before</th>\n",
       "      <td>7.37</td>\n",
       "      <td>7.22</td>\n",
       "      <td>6.96</td>\n",
       "    </tr>\n",
       "    <tr>\n",
       "      <th>calculus_1_before</th>\n",
       "      <td>4.93</td>\n",
       "      <td>6.00</td>\n",
       "      <td>5.92</td>\n",
       "    </tr>\n",
       "    <tr>\n",
       "      <th>economics_before</th>\n",
       "      <td>8.99</td>\n",
       "      <td>8.65</td>\n",
       "      <td>9.17</td>\n",
       "    </tr>\n",
       "    <tr>\n",
       "      <th>eng_before</th>\n",
       "      <td>8.06</td>\n",
       "      <td>8.22</td>\n",
       "      <td>8.54</td>\n",
       "    </tr>\n",
       "    <tr>\n",
       "      <th>discrete_math_before</th>\n",
       "      <td>7.28</td>\n",
       "      <td>7.26</td>\n",
       "      <td>6.38</td>\n",
       "    </tr>\n",
       "    <tr>\n",
       "      <th>programming_before</th>\n",
       "      <td>7.37</td>\n",
       "      <td>9.22</td>\n",
       "      <td>8.08</td>\n",
       "    </tr>\n",
       "    <tr>\n",
       "      <th>project_sem_before</th>\n",
       "      <td>8.16</td>\n",
       "      <td>8.13</td>\n",
       "      <td>8.58</td>\n",
       "    </tr>\n",
       "    <tr>\n",
       "      <th>theor_info_before</th>\n",
       "      <td>9.72</td>\n",
       "      <td>8.48</td>\n",
       "      <td>8.50</td>\n",
       "    </tr>\n",
       "    <tr>\n",
       "      <th>phil_before</th>\n",
       "      <td>8.25</td>\n",
       "      <td>7.96</td>\n",
       "      <td>8.67</td>\n",
       "    </tr>\n",
       "  </tbody>\n",
       "</table>\n",
       "</div>"
      ],
      "text/plain": [
       "enrol_year             2015  2016   2017\n",
       "safety_before         10.00  9.91  10.00\n",
       "history_before         9.77  8.00   9.83\n",
       "lin_alg_before         7.37  7.22   6.96\n",
       "calculus_1_before      4.93  6.00   5.92\n",
       "economics_before       8.99  8.65   9.17\n",
       "eng_before             8.06  8.22   8.54\n",
       "discrete_math_before   7.28  7.26   6.38\n",
       "programming_before     7.37  9.22   8.08\n",
       "project_sem_before     8.16  8.13   8.58\n",
       "theor_info_before      9.72  8.48   8.50\n",
       "phil_before            8.25  7.96   8.67"
      ]
     },
     "execution_count": 47,
     "metadata": {},
     "output_type": "execute_result"
    }
   ],
   "source": [
    "mean_score = (first_year.groupby('enrol_year')[courses].apply(lambda x: (x!=0).mean()).transpose()*10).round(2)\n",
    "mean_score"
   ]
  },
  {
   "cell_type": "code",
   "execution_count": 48,
   "metadata": {},
   "outputs": [
    {
     "data": {
      "text/html": [
       "<div>\n",
       "<style scoped>\n",
       "    .dataframe tbody tr th:only-of-type {\n",
       "        vertical-align: middle;\n",
       "    }\n",
       "\n",
       "    .dataframe tbody tr th {\n",
       "        vertical-align: top;\n",
       "    }\n",
       "\n",
       "    .dataframe thead th {\n",
       "        text-align: right;\n",
       "    }\n",
       "</style>\n",
       "<table border=\"1\" class=\"dataframe\">\n",
       "  <thead>\n",
       "    <tr style=\"text-align: right;\">\n",
       "      <th>enrol_year</th>\n",
       "      <th>2015</th>\n",
       "      <th>2016</th>\n",
       "      <th>2017</th>\n",
       "    </tr>\n",
       "  </thead>\n",
       "  <tbody>\n",
       "    <tr>\n",
       "      <th>safety_before</th>\n",
       "      <td>9.06</td>\n",
       "      <td>8.74</td>\n",
       "      <td>9.39</td>\n",
       "    </tr>\n",
       "    <tr>\n",
       "      <th>history_before</th>\n",
       "      <td>7.28</td>\n",
       "      <td>6.20</td>\n",
       "      <td>7.63</td>\n",
       "    </tr>\n",
       "    <tr>\n",
       "      <th>lin_alg_before</th>\n",
       "      <td>4.92</td>\n",
       "      <td>4.58</td>\n",
       "      <td>4.22</td>\n",
       "    </tr>\n",
       "    <tr>\n",
       "      <th>calculus_1_before</th>\n",
       "      <td>2.67</td>\n",
       "      <td>3.50</td>\n",
       "      <td>3.08</td>\n",
       "    </tr>\n",
       "    <tr>\n",
       "      <th>economics_before</th>\n",
       "      <td>5.45</td>\n",
       "      <td>5.52</td>\n",
       "      <td>5.55</td>\n",
       "    </tr>\n",
       "    <tr>\n",
       "      <th>eng_before</th>\n",
       "      <td>5.78</td>\n",
       "      <td>5.96</td>\n",
       "      <td>6.37</td>\n",
       "    </tr>\n",
       "    <tr>\n",
       "      <th>discrete_math_before</th>\n",
       "      <td>5.64</td>\n",
       "      <td>4.70</td>\n",
       "      <td>3.68</td>\n",
       "    </tr>\n",
       "    <tr>\n",
       "      <th>programming_before</th>\n",
       "      <td>4.66</td>\n",
       "      <td>7.09</td>\n",
       "      <td>5.15</td>\n",
       "    </tr>\n",
       "    <tr>\n",
       "      <th>project_sem_before</th>\n",
       "      <td>5.35</td>\n",
       "      <td>5.27</td>\n",
       "      <td>5.94</td>\n",
       "    </tr>\n",
       "    <tr>\n",
       "      <th>theor_info_before</th>\n",
       "      <td>7.76</td>\n",
       "      <td>6.18</td>\n",
       "      <td>5.87</td>\n",
       "    </tr>\n",
       "    <tr>\n",
       "      <th>phil_before</th>\n",
       "      <td>5.78</td>\n",
       "      <td>6.12</td>\n",
       "      <td>6.74</td>\n",
       "    </tr>\n",
       "  </tbody>\n",
       "</table>\n",
       "</div>"
      ],
      "text/plain": [
       "enrol_year            2015  2016  2017\n",
       "safety_before         9.06  8.74  9.39\n",
       "history_before        7.28  6.20  7.63\n",
       "lin_alg_before        4.92  4.58  4.22\n",
       "calculus_1_before     2.67  3.50  3.08\n",
       "economics_before      5.45  5.52  5.55\n",
       "eng_before            5.78  5.96  6.37\n",
       "discrete_math_before  5.64  4.70  3.68\n",
       "programming_before    4.66  7.09  5.15\n",
       "project_sem_before    5.35  5.27  5.94\n",
       "theor_info_before     7.76  6.18  5.87\n",
       "phil_before           5.78  6.12  6.74"
      ]
     },
     "execution_count": 48,
     "metadata": {},
     "output_type": "execute_result"
    }
   ],
   "source": [
    "mean_score = (first_year.groupby('enrol_year')[courses].mean().transpose()).round(2)\n",
    "mean_score"
   ]
  },
  {
   "cell_type": "code",
   "execution_count": 49,
   "metadata": {},
   "outputs": [
    {
     "data": {
      "text/html": [
       "<div>\n",
       "<style scoped>\n",
       "    .dataframe tbody tr th:only-of-type {\n",
       "        vertical-align: middle;\n",
       "    }\n",
       "\n",
       "    .dataframe tbody tr th {\n",
       "        vertical-align: top;\n",
       "    }\n",
       "\n",
       "    .dataframe thead th {\n",
       "        text-align: right;\n",
       "    }\n",
       "</style>\n",
       "<table border=\"1\" class=\"dataframe\">\n",
       "  <thead>\n",
       "    <tr style=\"text-align: right;\">\n",
       "      <th></th>\n",
       "      <th>safety_after</th>\n",
       "      <th>history_after</th>\n",
       "      <th>lin_alg_after</th>\n",
       "      <th>calculus_1_after</th>\n",
       "      <th>economics_after</th>\n",
       "      <th>eng_after</th>\n",
       "      <th>discrete_math_after</th>\n",
       "      <th>programming_after</th>\n",
       "      <th>project_sem_after</th>\n",
       "      <th>theor_info_after</th>\n",
       "      <th>phil_after</th>\n",
       "    </tr>\n",
       "  </thead>\n",
       "  <tbody>\n",
       "    <tr>\n",
       "      <th>safety_after</th>\n",
       "      <td>1.0000</td>\n",
       "      <td>0.6261</td>\n",
       "      <td>0.5000</td>\n",
       "      <td>0.4499</td>\n",
       "      <td>0.6385</td>\n",
       "      <td>0.4735</td>\n",
       "      <td>0.4212</td>\n",
       "      <td>0.4429</td>\n",
       "      <td>0.4740</td>\n",
       "      <td>0.5203</td>\n",
       "      <td>0.4619</td>\n",
       "    </tr>\n",
       "    <tr>\n",
       "      <th>history_after</th>\n",
       "      <td>0.6261</td>\n",
       "      <td>1.0000</td>\n",
       "      <td>0.5197</td>\n",
       "      <td>0.6009</td>\n",
       "      <td>0.6364</td>\n",
       "      <td>0.6536</td>\n",
       "      <td>0.5675</td>\n",
       "      <td>0.4197</td>\n",
       "      <td>0.6228</td>\n",
       "      <td>0.7233</td>\n",
       "      <td>0.6669</td>\n",
       "    </tr>\n",
       "    <tr>\n",
       "      <th>lin_alg_after</th>\n",
       "      <td>0.5000</td>\n",
       "      <td>0.5197</td>\n",
       "      <td>1.0000</td>\n",
       "      <td>0.6888</td>\n",
       "      <td>0.7033</td>\n",
       "      <td>0.6350</td>\n",
       "      <td>0.6731</td>\n",
       "      <td>0.6978</td>\n",
       "      <td>0.6883</td>\n",
       "      <td>0.5787</td>\n",
       "      <td>0.6451</td>\n",
       "    </tr>\n",
       "    <tr>\n",
       "      <th>calculus_1_after</th>\n",
       "      <td>0.4499</td>\n",
       "      <td>0.6009</td>\n",
       "      <td>0.6888</td>\n",
       "      <td>1.0000</td>\n",
       "      <td>0.6659</td>\n",
       "      <td>0.5875</td>\n",
       "      <td>0.6292</td>\n",
       "      <td>0.5484</td>\n",
       "      <td>0.6242</td>\n",
       "      <td>0.6750</td>\n",
       "      <td>0.6065</td>\n",
       "    </tr>\n",
       "    <tr>\n",
       "      <th>economics_after</th>\n",
       "      <td>0.6385</td>\n",
       "      <td>0.6364</td>\n",
       "      <td>0.7033</td>\n",
       "      <td>0.6659</td>\n",
       "      <td>1.0000</td>\n",
       "      <td>0.6059</td>\n",
       "      <td>0.5984</td>\n",
       "      <td>0.6471</td>\n",
       "      <td>0.6144</td>\n",
       "      <td>0.6756</td>\n",
       "      <td>0.6133</td>\n",
       "    </tr>\n",
       "    <tr>\n",
       "      <th>eng_after</th>\n",
       "      <td>0.4735</td>\n",
       "      <td>0.6536</td>\n",
       "      <td>0.6350</td>\n",
       "      <td>0.5875</td>\n",
       "      <td>0.6059</td>\n",
       "      <td>1.0000</td>\n",
       "      <td>0.7529</td>\n",
       "      <td>0.7036</td>\n",
       "      <td>0.8570</td>\n",
       "      <td>0.7400</td>\n",
       "      <td>0.8621</td>\n",
       "    </tr>\n",
       "    <tr>\n",
       "      <th>discrete_math_after</th>\n",
       "      <td>0.4212</td>\n",
       "      <td>0.5675</td>\n",
       "      <td>0.6731</td>\n",
       "      <td>0.6292</td>\n",
       "      <td>0.5984</td>\n",
       "      <td>0.7529</td>\n",
       "      <td>1.0000</td>\n",
       "      <td>0.6788</td>\n",
       "      <td>0.7624</td>\n",
       "      <td>0.7518</td>\n",
       "      <td>0.7412</td>\n",
       "    </tr>\n",
       "    <tr>\n",
       "      <th>programming_after</th>\n",
       "      <td>0.4429</td>\n",
       "      <td>0.4197</td>\n",
       "      <td>0.6978</td>\n",
       "      <td>0.5484</td>\n",
       "      <td>0.6471</td>\n",
       "      <td>0.7036</td>\n",
       "      <td>0.6788</td>\n",
       "      <td>1.0000</td>\n",
       "      <td>0.7280</td>\n",
       "      <td>0.6069</td>\n",
       "      <td>0.7184</td>\n",
       "    </tr>\n",
       "    <tr>\n",
       "      <th>project_sem_after</th>\n",
       "      <td>0.4740</td>\n",
       "      <td>0.6228</td>\n",
       "      <td>0.6883</td>\n",
       "      <td>0.6242</td>\n",
       "      <td>0.6144</td>\n",
       "      <td>0.8570</td>\n",
       "      <td>0.7624</td>\n",
       "      <td>0.7280</td>\n",
       "      <td>1.0000</td>\n",
       "      <td>0.7478</td>\n",
       "      <td>0.8679</td>\n",
       "    </tr>\n",
       "    <tr>\n",
       "      <th>theor_info_after</th>\n",
       "      <td>0.5203</td>\n",
       "      <td>0.7233</td>\n",
       "      <td>0.5787</td>\n",
       "      <td>0.6750</td>\n",
       "      <td>0.6756</td>\n",
       "      <td>0.7400</td>\n",
       "      <td>0.7518</td>\n",
       "      <td>0.6069</td>\n",
       "      <td>0.7478</td>\n",
       "      <td>1.0000</td>\n",
       "      <td>0.7377</td>\n",
       "    </tr>\n",
       "    <tr>\n",
       "      <th>phil_after</th>\n",
       "      <td>0.4619</td>\n",
       "      <td>0.6669</td>\n",
       "      <td>0.6451</td>\n",
       "      <td>0.6065</td>\n",
       "      <td>0.6133</td>\n",
       "      <td>0.8621</td>\n",
       "      <td>0.7412</td>\n",
       "      <td>0.7184</td>\n",
       "      <td>0.8679</td>\n",
       "      <td>0.7377</td>\n",
       "      <td>1.0000</td>\n",
       "    </tr>\n",
       "  </tbody>\n",
       "</table>\n",
       "</div>"
      ],
      "text/plain": [
       "                     safety_after  history_after  lin_alg_after  \\\n",
       "safety_after               1.0000         0.6261         0.5000   \n",
       "history_after              0.6261         1.0000         0.5197   \n",
       "lin_alg_after              0.5000         0.5197         1.0000   \n",
       "calculus_1_after           0.4499         0.6009         0.6888   \n",
       "economics_after            0.6385         0.6364         0.7033   \n",
       "eng_after                  0.4735         0.6536         0.6350   \n",
       "discrete_math_after        0.4212         0.5675         0.6731   \n",
       "programming_after          0.4429         0.4197         0.6978   \n",
       "project_sem_after          0.4740         0.6228         0.6883   \n",
       "theor_info_after           0.5203         0.7233         0.5787   \n",
       "phil_after                 0.4619         0.6669         0.6451   \n",
       "\n",
       "                     calculus_1_after  economics_after  eng_after  \\\n",
       "safety_after                   0.4499           0.6385     0.4735   \n",
       "history_after                  0.6009           0.6364     0.6536   \n",
       "lin_alg_after                  0.6888           0.7033     0.6350   \n",
       "calculus_1_after               1.0000           0.6659     0.5875   \n",
       "economics_after                0.6659           1.0000     0.6059   \n",
       "eng_after                      0.5875           0.6059     1.0000   \n",
       "discrete_math_after            0.6292           0.5984     0.7529   \n",
       "programming_after              0.5484           0.6471     0.7036   \n",
       "project_sem_after              0.6242           0.6144     0.8570   \n",
       "theor_info_after               0.6750           0.6756     0.7400   \n",
       "phil_after                     0.6065           0.6133     0.8621   \n",
       "\n",
       "                     discrete_math_after  programming_after  \\\n",
       "safety_after                      0.4212             0.4429   \n",
       "history_after                     0.5675             0.4197   \n",
       "lin_alg_after                     0.6731             0.6978   \n",
       "calculus_1_after                  0.6292             0.5484   \n",
       "economics_after                   0.5984             0.6471   \n",
       "eng_after                         0.7529             0.7036   \n",
       "discrete_math_after               1.0000             0.6788   \n",
       "programming_after                 0.6788             1.0000   \n",
       "project_sem_after                 0.7624             0.7280   \n",
       "theor_info_after                  0.7518             0.6069   \n",
       "phil_after                        0.7412             0.7184   \n",
       "\n",
       "                     project_sem_after  theor_info_after  phil_after  \n",
       "safety_after                    0.4740            0.5203      0.4619  \n",
       "history_after                   0.6228            0.7233      0.6669  \n",
       "lin_alg_after                   0.6883            0.5787      0.6451  \n",
       "calculus_1_after                0.6242            0.6750      0.6065  \n",
       "economics_after                 0.6144            0.6756      0.6133  \n",
       "eng_after                       0.8570            0.7400      0.8621  \n",
       "discrete_math_after             0.7624            0.7518      0.7412  \n",
       "programming_after               0.7280            0.6069      0.7184  \n",
       "project_sem_after               1.0000            0.7478      0.8679  \n",
       "theor_info_after                0.7478            1.0000      0.7377  \n",
       "phil_after                      0.8679            0.7377      1.0000  "
      ]
     },
     "execution_count": 49,
     "metadata": {},
     "output_type": "execute_result"
    }
   ],
   "source": [
    "filter_col = [col for col in first_year if col.endswith('after')\n",
    "              and not col.startswith('fails')|col.startswith('rank')|col.startswith('min')|col.startswith('avg')]\n",
    "\n",
    "corr = first_year[filter_col].corr().round(4)\n",
    "corr"
   ]
  },
  {
   "cell_type": "code",
   "execution_count": 50,
   "metadata": {},
   "outputs": [
    {
     "name": "stdout",
     "output_type": "stream",
     "text": [
      "\\begin{tabular}{lrrr}\n",
      "\\toprule\n",
      "\\textbf{enrol\\_year} &  2015 &  2016 &  2017 \\\\\n",
      "\\midrule\n",
      "\\textbf{safety\\_before       } &     0 &     2 &     0 \\\\\n",
      "\\textbf{history\\_before      } &     5 &    46 &     4 \\\\\n",
      "\\textbf{lin\\_alg\\_before      } &    57 &    64 &    73 \\\\\n",
      "\\textbf{calculus\\_1\\_before   } &   110 &    92 &    98 \\\\\n",
      "\\textbf{economics\\_before    } &    22 &    31 &    20 \\\\\n",
      "\\textbf{eng\\_before          } &    42 &    41 &    35 \\\\\n",
      "\\textbf{discrete\\_math\\_before} &    59 &    63 &    87 \\\\\n",
      "\\textbf{programming\\_before  } &    57 &    18 &    46 \\\\\n",
      "\\textbf{project\\_sem\\_before  } &    40 &    43 &    34 \\\\\n",
      "\\textbf{theor\\_info\\_before   } &     6 &    35 &    36 \\\\\n",
      "\\textbf{phil\\_before         } &    38 &    47 &    32 \\\\\n",
      "\\bottomrule\n",
      "\\end{tabular}\n",
      "\n"
     ]
    }
   ],
   "source": [
    "retakes = retakes.transpose()\n",
    "print(retakes.to_latex(index=True, header = True, bold_rows = True))"
   ]
  },
  {
   "cell_type": "code",
   "execution_count": 51,
   "metadata": {},
   "outputs": [
    {
     "data": {
      "text/html": [
       "<div>\n",
       "<style scoped>\n",
       "    .dataframe tbody tr th:only-of-type {\n",
       "        vertical-align: middle;\n",
       "    }\n",
       "\n",
       "    .dataframe tbody tr th {\n",
       "        vertical-align: top;\n",
       "    }\n",
       "\n",
       "    .dataframe thead th {\n",
       "        text-align: right;\n",
       "    }\n",
       "</style>\n",
       "<table border=\"1\" class=\"dataframe\">\n",
       "  <thead>\n",
       "    <tr style=\"text-align: right;\">\n",
       "      <th>enrol_year</th>\n",
       "      <th>2015</th>\n",
       "      <th>2016</th>\n",
       "      <th>2017</th>\n",
       "    </tr>\n",
       "  </thead>\n",
       "  <tbody>\n",
       "    <tr>\n",
       "      <th>safety_before</th>\n",
       "      <td>0</td>\n",
       "      <td>2</td>\n",
       "      <td>0</td>\n",
       "    </tr>\n",
       "    <tr>\n",
       "      <th>history_before</th>\n",
       "      <td>5</td>\n",
       "      <td>46</td>\n",
       "      <td>4</td>\n",
       "    </tr>\n",
       "    <tr>\n",
       "      <th>lin_alg_before</th>\n",
       "      <td>57</td>\n",
       "      <td>64</td>\n",
       "      <td>73</td>\n",
       "    </tr>\n",
       "    <tr>\n",
       "      <th>calculus_1_before</th>\n",
       "      <td>110</td>\n",
       "      <td>92</td>\n",
       "      <td>98</td>\n",
       "    </tr>\n",
       "    <tr>\n",
       "      <th>economics_before</th>\n",
       "      <td>22</td>\n",
       "      <td>31</td>\n",
       "      <td>20</td>\n",
       "    </tr>\n",
       "    <tr>\n",
       "      <th>eng_before</th>\n",
       "      <td>42</td>\n",
       "      <td>41</td>\n",
       "      <td>35</td>\n",
       "    </tr>\n",
       "    <tr>\n",
       "      <th>discrete_math_before</th>\n",
       "      <td>59</td>\n",
       "      <td>63</td>\n",
       "      <td>87</td>\n",
       "    </tr>\n",
       "    <tr>\n",
       "      <th>programming_before</th>\n",
       "      <td>57</td>\n",
       "      <td>18</td>\n",
       "      <td>46</td>\n",
       "    </tr>\n",
       "    <tr>\n",
       "      <th>project_sem_before</th>\n",
       "      <td>40</td>\n",
       "      <td>43</td>\n",
       "      <td>34</td>\n",
       "    </tr>\n",
       "    <tr>\n",
       "      <th>theor_info_before</th>\n",
       "      <td>6</td>\n",
       "      <td>35</td>\n",
       "      <td>36</td>\n",
       "    </tr>\n",
       "    <tr>\n",
       "      <th>phil_before</th>\n",
       "      <td>38</td>\n",
       "      <td>47</td>\n",
       "      <td>32</td>\n",
       "    </tr>\n",
       "  </tbody>\n",
       "</table>\n",
       "</div>"
      ],
      "text/plain": [
       "enrol_year            2015  2016  2017\n",
       "safety_before            0     2     0\n",
       "history_before           5    46     4\n",
       "lin_alg_before          57    64    73\n",
       "calculus_1_before      110    92    98\n",
       "economics_before        22    31    20\n",
       "eng_before              42    41    35\n",
       "discrete_math_before    59    63    87\n",
       "programming_before      57    18    46\n",
       "project_sem_before      40    43    34\n",
       "theor_info_before        6    35    36\n",
       "phil_before             38    47    32"
      ]
     },
     "execution_count": 51,
     "metadata": {},
     "output_type": "execute_result"
    }
   ],
   "source": [
    "retakes"
   ]
  },
  {
   "cell_type": "code",
   "execution_count": 52,
   "metadata": {},
   "outputs": [
    {
     "name": "stdout",
     "output_type": "stream",
     "text": [
      "\\begin{tabular}{lrrr}\n",
      "\\toprule\n",
      "\\textbf{enrol\\_year} &   2015 &   2016 &   2017 \\\\\n",
      "\\midrule\n",
      "\\textbf{safety\\_before       } &   0.00 &   0.87 &   0.00 \\\\\n",
      "\\textbf{history\\_before      } &   2.30 &  20.00 &   1.67 \\\\\n",
      "\\textbf{lin\\_alg\\_before      } &  26.27 &  27.83 &  30.42 \\\\\n",
      "\\textbf{calculus\\_1\\_before   } &  50.69 &  40.00 &  40.83 \\\\\n",
      "\\textbf{economics\\_before    } &  10.14 &  13.48 &   8.33 \\\\\n",
      "\\textbf{eng\\_before          } &  19.35 &  17.83 &  14.58 \\\\\n",
      "\\textbf{discrete\\_math\\_before} &  27.19 &  27.39 &  36.25 \\\\\n",
      "\\textbf{programming\\_before  } &  26.27 &   7.83 &  19.17 \\\\\n",
      "\\textbf{project\\_sem\\_before  } &  18.43 &  18.70 &  14.17 \\\\\n",
      "\\textbf{theor\\_info\\_before   } &   2.76 &  15.22 &  15.00 \\\\\n",
      "\\textbf{phil\\_before         } &  17.51 &  20.43 &  13.33 \\\\\n",
      "\\bottomrule\n",
      "\\end{tabular}\n",
      "\n"
     ]
    }
   ],
   "source": [
    "print(retakes_pcnt.to_latex(index=True, header = True, bold_rows = True))"
   ]
  },
  {
   "cell_type": "code",
   "execution_count": 53,
   "metadata": {},
   "outputs": [
    {
     "name": "stdout",
     "output_type": "stream",
     "text": [
      "\\begin{tabular}{lrrrrrrrrrrr}\n",
      "\\toprule\n",
      "{} &  safety\\_after &  history\\_after &  lin\\_alg\\_after &  calculus\\_1\\_after &  economics\\_after &  eng\\_after &  discrete\\_math\\_after &  programming\\_after &  project\\_sem\\_after &  theor\\_info\\_after &  phil\\_after \\\\\n",
      "\\midrule\n",
      "\\textbf{safety\\_after       } &        1.0000 &         0.6261 &         0.5000 &            0.4499 &           0.6385 &     0.4735 &               0.4212 &             0.4429 &             0.4740 &            0.5203 &      0.4619 \\\\\n",
      "\\textbf{history\\_after      } &        0.6261 &         1.0000 &         0.5197 &            0.6009 &           0.6364 &     0.6536 &               0.5675 &             0.4197 &             0.6228 &            0.7233 &      0.6669 \\\\\n",
      "\\textbf{lin\\_alg\\_after      } &        0.5000 &         0.5197 &         1.0000 &            0.6888 &           0.7033 &     0.6350 &               0.6731 &             0.6978 &             0.6883 &            0.5787 &      0.6451 \\\\\n",
      "\\textbf{calculus\\_1\\_after   } &        0.4499 &         0.6009 &         0.6888 &            1.0000 &           0.6659 &     0.5875 &               0.6292 &             0.5484 &             0.6242 &            0.6750 &      0.6065 \\\\\n",
      "\\textbf{economics\\_after    } &        0.6385 &         0.6364 &         0.7033 &            0.6659 &           1.0000 &     0.6059 &               0.5984 &             0.6471 &             0.6144 &            0.6756 &      0.6133 \\\\\n",
      "\\textbf{eng\\_after          } &        0.4735 &         0.6536 &         0.6350 &            0.5875 &           0.6059 &     1.0000 &               0.7529 &             0.7036 &             0.8570 &            0.7400 &      0.8621 \\\\\n",
      "\\textbf{discrete\\_math\\_after} &        0.4212 &         0.5675 &         0.6731 &            0.6292 &           0.5984 &     0.7529 &               1.0000 &             0.6788 &             0.7624 &            0.7518 &      0.7412 \\\\\n",
      "\\textbf{programming\\_after  } &        0.4429 &         0.4197 &         0.6978 &            0.5484 &           0.6471 &     0.7036 &               0.6788 &             1.0000 &             0.7280 &            0.6069 &      0.7184 \\\\\n",
      "\\textbf{project\\_sem\\_after  } &        0.4740 &         0.6228 &         0.6883 &            0.6242 &           0.6144 &     0.8570 &               0.7624 &             0.7280 &             1.0000 &            0.7478 &      0.8679 \\\\\n",
      "\\textbf{theor\\_info\\_after   } &        0.5203 &         0.7233 &         0.5787 &            0.6750 &           0.6756 &     0.7400 &               0.7518 &             0.6069 &             0.7478 &            1.0000 &      0.7377 \\\\\n",
      "\\textbf{phil\\_after         } &        0.4619 &         0.6669 &         0.6451 &            0.6065 &           0.6133 &     0.8621 &               0.7412 &             0.7184 &             0.8679 &            0.7377 &      1.0000 \\\\\n",
      "\\bottomrule\n",
      "\\end{tabular}\n",
      "\n"
     ]
    }
   ],
   "source": [
    "print(corr.to_latex(index=True, header = True, bold_rows = True))"
   ]
  },
  {
   "cell_type": "code",
   "execution_count": 54,
   "metadata": {},
   "outputs": [
    {
     "name": "stdout",
     "output_type": "stream",
     "text": [
      "\\begin{tabular}{llr}\n",
      "\\toprule\n",
      "     &   &  dropout \\\\\n",
      "\\textbf{enrol\\_year} & \\textbf{gender} &          \\\\\n",
      "\\midrule\n",
      "\\textbf{2015} & \\textbf{0} &     22.0 \\\\\n",
      "     & \\textbf{1} &     29.0 \\\\\n",
      "\\textbf{2016} & \\textbf{0} &     21.0 \\\\\n",
      "     & \\textbf{1} &     30.0 \\\\\n",
      "\\textbf{2017} & \\textbf{0} &     12.0 \\\\\n",
      "     & \\textbf{1} &     31.0 \\\\\n",
      "\\bottomrule\n",
      "\\end{tabular}\n",
      "\n"
     ]
    }
   ],
   "source": [
    "print(table.to_latex(index=True, header = True, bold_rows = True))"
   ]
  },
  {
   "cell_type": "code",
   "execution_count": 55,
   "metadata": {},
   "outputs": [
    {
     "name": "stdout",
     "output_type": "stream",
     "text": [
      "\\begin{tabular}{lrr}\n",
      "\\toprule\n",
      "{} &       male &     female \\\\\n",
      "\\textbf{enrol\\_year} &            &            \\\\\n",
      "\\midrule\n",
      "\\textbf{2015      } &  57.142857 &  42.857143 \\\\\n",
      "\\textbf{2016      } &  57.391304 &  42.608696 \\\\\n",
      "\\textbf{2017      } &  65.000000 &  35.000000 \\\\\n",
      "\\bottomrule\n",
      "\\end{tabular}\n",
      "\n"
     ]
    }
   ],
   "source": [
    "print(gender_count.to_latex(index=True, header = True, bold_rows = True))"
   ]
  },
  {
   "cell_type": "code",
   "execution_count": 56,
   "metadata": {},
   "outputs": [
    {
     "data": {
      "text/plain": [
       "array([[<matplotlib.axes._subplots.AxesSubplot object at 0x1108dc410>,\n",
       "        <matplotlib.axes._subplots.AxesSubplot object at 0x1243b0b10>,\n",
       "        <matplotlib.axes._subplots.AxesSubplot object at 0x1243e5e90>,\n",
       "        <matplotlib.axes._subplots.AxesSubplot object at 0x110941a10>,\n",
       "        <matplotlib.axes._subplots.AxesSubplot object at 0x124448bd0>,\n",
       "        <matplotlib.axes._subplots.AxesSubplot object at 0x124478750>,\n",
       "        <matplotlib.axes._subplots.AxesSubplot object at 0x10fca4b50>],\n",
       "       [<matplotlib.axes._subplots.AxesSubplot object at 0x1254c5990>,\n",
       "        <matplotlib.axes._subplots.AxesSubplot object at 0x1108ed750>,\n",
       "        <matplotlib.axes._subplots.AxesSubplot object at 0x12538fdd0>,\n",
       "        <matplotlib.axes._subplots.AxesSubplot object at 0x1250254d0>,\n",
       "        <matplotlib.axes._subplots.AxesSubplot object at 0x12552af90>,\n",
       "        <matplotlib.axes._subplots.AxesSubplot object at 0x1251a3990>,\n",
       "        <matplotlib.axes._subplots.AxesSubplot object at 0x125311e10>],\n",
       "       [<matplotlib.axes._subplots.AxesSubplot object at 0x1252b2250>,\n",
       "        <matplotlib.axes._subplots.AxesSubplot object at 0x12561f490>,\n",
       "        <matplotlib.axes._subplots.AxesSubplot object at 0x12547f150>,\n",
       "        <matplotlib.axes._subplots.AxesSubplot object at 0x1252cecd0>,\n",
       "        <matplotlib.axes._subplots.AxesSubplot object at 0x125483610>,\n",
       "        <matplotlib.axes._subplots.AxesSubplot object at 0x1251488d0>,\n",
       "        <matplotlib.axes._subplots.AxesSubplot object at 0x124fef890>],\n",
       "       [<matplotlib.axes._subplots.AxesSubplot object at 0x1253b60d0>,\n",
       "        <matplotlib.axes._subplots.AxesSubplot object at 0x1252c7910>,\n",
       "        <matplotlib.axes._subplots.AxesSubplot object at 0x125470c90>,\n",
       "        <matplotlib.axes._subplots.AxesSubplot object at 0x12534f950>,\n",
       "        <matplotlib.axes._subplots.AxesSubplot object at 0x1255a1cd0>,\n",
       "        <matplotlib.axes._subplots.AxesSubplot object at 0x125527990>,\n",
       "        <matplotlib.axes._subplots.AxesSubplot object at 0x124360d10>],\n",
       "       [<matplotlib.axes._subplots.AxesSubplot object at 0x1109909d0>,\n",
       "        <matplotlib.axes._subplots.AxesSubplot object at 0x128b1bd50>,\n",
       "        <matplotlib.axes._subplots.AxesSubplot object at 0x1244b4a10>,\n",
       "        <matplotlib.axes._subplots.AxesSubplot object at 0x1244f0d90>,\n",
       "        <matplotlib.axes._subplots.AxesSubplot object at 0x127758a50>,\n",
       "        <matplotlib.axes._subplots.AxesSubplot object at 0x127798dd0>,\n",
       "        <matplotlib.axes._subplots.AxesSubplot object at 0x1277cfa90>],\n",
       "       [<matplotlib.axes._subplots.AxesSubplot object at 0x12780ee10>,\n",
       "        <matplotlib.axes._subplots.AxesSubplot object at 0x127845ad0>,\n",
       "        <matplotlib.axes._subplots.AxesSubplot object at 0x127883e50>,\n",
       "        <matplotlib.axes._subplots.AxesSubplot object at 0x1278b8b10>,\n",
       "        <matplotlib.axes._subplots.AxesSubplot object at 0x1278f8e90>,\n",
       "        <matplotlib.axes._subplots.AxesSubplot object at 0x12792db50>,\n",
       "        <matplotlib.axes._subplots.AxesSubplot object at 0x12796ded0>],\n",
       "       [<matplotlib.axes._subplots.AxesSubplot object at 0x1279a3b90>,\n",
       "        <matplotlib.axes._subplots.AxesSubplot object at 0x1279e4f10>,\n",
       "        <matplotlib.axes._subplots.AxesSubplot object at 0x127a17bd0>,\n",
       "        <matplotlib.axes._subplots.AxesSubplot object at 0x127a57f50>,\n",
       "        <matplotlib.axes._subplots.AxesSubplot object at 0x127a8ec10>,\n",
       "        <matplotlib.axes._subplots.AxesSubplot object at 0x127accf90>,\n",
       "        <matplotlib.axes._subplots.AxesSubplot object at 0x127b03c50>]],\n",
       "      dtype=object)"
      ]
     },
     "execution_count": 56,
     "metadata": {},
     "output_type": "execute_result"
    },
    {
     "data": {
      "image/png": "[encoded data removed]",
      "text/plain": [
       "<Figure size 1152x1008 with 49 Axes>"
      ]
     },
     "metadata": {
      "needs_background": "light"
     },
     "output_type": "display_data"
    }
   ],
   "source": [
    "first_year.hist(figsize=(16,14))"
   ]
  },
  {
   "cell_type": "markdown",
   "metadata": {},
   "source": [
    "# МОДЕЛИ"
   ]
  },
  {
   "cell_type": "code",
   "execution_count": 138,
   "metadata": {},
   "outputs": [],
   "source": [
    "random_state = 333\n",
    "test_size = 0.2"
   ]
  },
  {
   "cell_type": "code",
   "execution_count": 139,
   "metadata": {},
   "outputs": [],
   "source": [
    "data = first_year.copy()"
   ]
  },
  {
   "cell_type": "code",
   "execution_count": 140,
   "metadata": {},
   "outputs": [],
   "source": [
    "d1 = [\"dropout_before_1_2\",\"dropout_after_1_1\"]\n",
    "d2 = [\"dropout_before_2_1\",\"dropout_after_1_2\"]\n",
    "data[\"dropout_1\"] = data[d1].sum(axis = 1)\n",
    "data[\"dropout_2\"] = data[d2].sum(axis = 1)"
   ]
  },
  {
   "cell_type": "code",
   "execution_count": 141,
   "metadata": {},
   "outputs": [],
   "source": [
    "data.drop([\"dropout_before_1_2\",\"dropout_after_1_1\",\"dropout_before_2_1\",\"dropout_after_1_2\"], axis=1, inplace = True)"
   ]
  },
  {
   "cell_type": "code",
   "execution_count": 142,
   "metadata": {},
   "outputs": [],
   "source": [
    "# data[\"dropout_1\"] = np.logical_xor(data[\"dropout_1\"],1).astype(int)\n",
    "# data[\"dropout_2\"] = np.logical_xor(data[\"dropout_2\"],1).astype(int)"
   ]
  },
  {
   "cell_type": "code",
   "execution_count": 194,
   "metadata": {},
   "outputs": [],
   "source": [
    "after = ['rank_1_1_after', 'avg_score_1_1_after', 'min_score_1_1_after',\n",
    "       'fails_1_1_after']\n",
    "before = ['rank_1_1_before', 'avg_score_1_1_before', 'min_score_1_1_before',\n",
    "       'fails_1_1_before']\n",
    "#'enrol_year_2015', 'enrol_year_2016','enrol_year_2017'\n",
    "features = ['gender','economics_before', 'lin_alg_before' ]+before+after\n",
    "            "
   ]
  },
  {
   "cell_type": "code",
   "execution_count": 144,
   "metadata": {},
   "outputs": [],
   "source": [
    "train,test = train_test_split(data, test_size = test_size, random_state=random_state)\n",
    "\n",
    "X_train = train[features]\n",
    "y_train = train['dropout_1']\n",
    "\n",
    "X_test = test[features]\n",
    "y_test = test['dropout_1']"
   ]
  },
  {
   "cell_type": "markdown",
   "metadata": {},
   "source": [
    "## Logistic Regression"
   ]
  },
  {
   "cell_type": "code",
   "execution_count": 145,
   "metadata": {
    "scrolled": false
   },
   "outputs": [
    {
     "name": "stdout",
     "output_type": "stream",
     "text": [
      "Fitting 3 folds for each of 12 candidates, totalling 36 fits\n"
     ]
    },
    {
     "name": "stderr",
     "output_type": "stream",
     "text": [
      "[Parallel(n_jobs=1)]: Using backend SequentialBackend with 1 concurrent workers.\n",
      "/Library/Frameworks/Python.framework/Versions/3.7/lib/python3.7/site-packages/sklearn/model_selection/_validation.py:536: FitFailedWarning: Estimator fit failed. The score on this train-test partition for these parameters will be set to nan. Details: \n",
      "ValueError: Solver newton-cg supports only 'l2' or 'none' penalties, got l1 penalty.\n",
      "\n",
      "  FitFailedWarning)\n",
      "/Library/Frameworks/Python.framework/Versions/3.7/lib/python3.7/site-packages/sklearn/model_selection/_validation.py:536: FitFailedWarning: Estimator fit failed. The score on this train-test partition for these parameters will be set to nan. Details: \n",
      "ValueError: Solver newton-cg supports only 'l2' or 'none' penalties, got l1 penalty.\n",
      "\n",
      "  FitFailedWarning)\n",
      "/Library/Frameworks/Python.framework/Versions/3.7/lib/python3.7/site-packages/sklearn/model_selection/_validation.py:536: FitFailedWarning: Estimator fit failed. The score on this train-test partition for these parameters will be set to nan. Details: \n",
      "ValueError: Solver newton-cg supports only 'l2' or 'none' penalties, got l1 penalty.\n",
      "\n",
      "  FitFailedWarning)\n",
      "[Parallel(n_jobs=1)]: Done  36 out of  36 | elapsed:    0.8s finished\n"
     ]
    },
    {
     "data": {
      "text/plain": [
       "GridSearchCV(cv=3, error_score=nan,\n",
       "             estimator=LogisticRegression(C=1.0, class_weight=None, dual=False,\n",
       "                                          fit_intercept=True,\n",
       "                                          intercept_scaling=1, l1_ratio=None,\n",
       "                                          max_iter=100, multi_class='auto',\n",
       "                                          n_jobs=None, penalty='l2',\n",
       "                                          random_state=333, solver='lbfgs',\n",
       "                                          tol=0.0001, verbose=0,\n",
       "                                          warm_start=False),\n",
       "             iid='deprecated', n_jobs=None,\n",
       "             param_grid={'class_weight': [None, {0: 8, 1: 1}, {0: 10, 1: 1}],\n",
       "                         'penalty': ['l1', 'l2'],\n",
       "                         'solver': ['newton-cg', 'liblinear']},\n",
       "             pre_dispatch='2*n_jobs', refit=True, return_train_score=False,\n",
       "             scoring='f1', verbose=1)"
      ]
     },
     "execution_count": 145,
     "metadata": {},
     "output_type": "execute_result"
    }
   ],
   "source": [
    "params = {'solver': [\"newton-cg\",\"liblinear\"],\n",
    "          'penalty' : ['l1', 'l2'],\n",
    "         'class_weight':[None,{0:8,1:1},{0:10,1:1}]}\n",
    "\n",
    "grid_search_cv = GridSearchCV(LogisticRegression(random_state=random_state), params, verbose=1, cv=3, scoring='f1')\n",
    "grid_search_cv.fit(X_train, y_train)\n",
    "\n",
    "# model = LogisticRegression(solver=\"liblinear\",\n",
    "#                           random_state = random_state,\n",
    "#                       class_weight={0:8,1:1})\n",
    "# model.fit(X_train,y_train)\n",
    "#y_pred = model.predict(X_test)"
   ]
  },
  {
   "cell_type": "code",
   "execution_count": 146,
   "metadata": {},
   "outputs": [
    {
     "data": {
      "text/plain": [
       "LogisticRegression(C=1.0, class_weight=None, dual=False, fit_intercept=True,\n",
       "                   intercept_scaling=1, l1_ratio=None, max_iter=100,\n",
       "                   multi_class='auto', n_jobs=None, penalty='l2',\n",
       "                   random_state=333, solver='newton-cg', tol=0.0001, verbose=0,\n",
       "                   warm_start=False)"
      ]
     },
     "execution_count": 146,
     "metadata": {},
     "output_type": "execute_result"
    }
   ],
   "source": [
    "best_logit_1 = grid_search_cv.best_estimator_\n",
    "best_logit_1"
   ]
  },
  {
   "cell_type": "code",
   "execution_count": 147,
   "metadata": {},
   "outputs": [
    {
     "data": {
      "text/plain": [
       "array([[-1.41010303, -0.24195757, -0.23255426,  0.03148978,  0.68330769,\n",
       "        -0.20701   ,  0.43449898, -0.03399569, -1.21650573,  0.53747456,\n",
       "         1.90573725]])"
      ]
     },
     "execution_count": 147,
     "metadata": {},
     "output_type": "execute_result"
    }
   ],
   "source": [
    "best_logit_1.coef_"
   ]
  },
  {
   "cell_type": "code",
   "execution_count": 148,
   "metadata": {},
   "outputs": [
    {
     "name": "stdout",
     "output_type": "stream",
     "text": [
      "[[117   1]\n",
      " [  7  13]]\n",
      "Accuracy: 0.9420289855072463\n",
      "Precision: 0.9285714285714286\n",
      "Recall: 0.65\n"
     ]
    }
   ],
   "source": [
    "y_pred = best_logit_1.predict(X_test)\n",
    "cnf_matrix = metrics.confusion_matrix(y_test, y_pred)\n",
    "print(cnf_matrix)\n",
    "\n",
    "print(\"Accuracy:\",metrics.accuracy_score(y_test, y_pred))\n",
    "print(\"Precision:\",metrics.precision_score(y_test, y_pred))\n",
    "print(\"Recall:\",metrics.recall_score(y_test, y_pred))"
   ]
  },
  {
   "cell_type": "code",
   "execution_count": 149,
   "metadata": {},
   "outputs": [
    {
     "data": {
      "image/png": "[encoded data removed]",
      "text/plain": [
       "<Figure size 432x288 with 1 Axes>"
      ]
     },
     "metadata": {
      "needs_background": "light"
     },
     "output_type": "display_data"
    }
   ],
   "source": [
    "y_pred_proba = best_logit_1.predict_proba(X_test)[::,1]\n",
    "fpr, tpr, _ = metrics.roc_curve(y_test,  y_pred_proba)\n",
    "auc = metrics.roc_auc_score(y_test, y_pred_proba)\n",
    "plt.plot(fpr,tpr,label=\"Logistic regression, auc=\" + str(auc))\n",
    "plt.plot([0, 1], [0, 1],'r--')\n",
    "plt.legend(loc=4)\n",
    "plt.xlabel('False Positive Rate')\n",
    "plt.ylabel('True Positive Rate')\n",
    "plt.title('Receiver operating characteristic')\n",
    "plt.savefig('logit_1.png', dpi=300, bbox_inches=\"tight\")"
   ]
  },
  {
   "cell_type": "markdown",
   "metadata": {},
   "source": [
    "## Decision Trees"
   ]
  },
  {
   "cell_type": "code",
   "execution_count": 150,
   "metadata": {},
   "outputs": [
    {
     "name": "stdout",
     "output_type": "stream",
     "text": [
      "Fitting 3 folds for each of 9408 candidates, totalling 28224 fits\n"
     ]
    },
    {
     "name": "stderr",
     "output_type": "stream",
     "text": [
      "[Parallel(n_jobs=1)]: Using backend SequentialBackend with 1 concurrent workers.\n",
      "[Parallel(n_jobs=1)]: Done 28224 out of 28224 | elapsed:  3.3min finished\n"
     ]
    },
    {
     "data": {
      "text/plain": [
       "GridSearchCV(cv=3, error_score=nan,\n",
       "             estimator=DecisionTreeClassifier(ccp_alpha=0.0, class_weight=None,\n",
       "                                              criterion='gini', max_depth=None,\n",
       "                                              max_features=None,\n",
       "                                              max_leaf_nodes=None,\n",
       "                                              min_impurity_decrease=0.0,\n",
       "                                              min_impurity_split=None,\n",
       "                                              min_samples_leaf=1,\n",
       "                                              min_samples_split=2,\n",
       "                                              min_weight_fraction_leaf=0.0,\n",
       "                                              presort='deprecated',\n",
       "                                              random_state=333,\n",
       "                                              splitter='best'),\n",
       "             iid='deprecated', n_jobs=None,\n",
       "             param_grid={'max_depth': [1, 2, None],\n",
       "                         'max_features': [None, 2, 5, 'log2'],\n",
       "                         'max_leaf_nodes': [2, 3, 4, 5, 6, 7, 8, 9, 10, 11, 12,\n",
       "                                            13, 14, 15, 16, 17, 18, 19, 20, 21,\n",
       "                                            22, 23, 24, 25, 26, 27, 28, 29, 30,\n",
       "                                            31, ...],\n",
       "                         'min_samples_split': [5, 10, 20, 30, 40, 50, 100,\n",
       "                                               150]},\n",
       "             pre_dispatch='2*n_jobs', refit=True, return_train_score=False,\n",
       "             scoring='f1', verbose=1)"
      ]
     },
     "execution_count": 150,
     "metadata": {},
     "output_type": "execute_result"
    }
   ],
   "source": [
    "params = {'max_leaf_nodes': list(range(2, 100)), 'min_samples_split': [5,10,20,30,40,50,100,150],\n",
    "         'max_features':[None, 2,5, 'log2'],'max_depth':[1,2,None]}\n",
    "grid_search_cv = GridSearchCV(DecisionTreeClassifier(random_state=random_state), params, verbose=1, cv=3, scoring='f1')\n",
    "grid_search_cv.fit(X_train, y_train)\n",
    "\n",
    "# clf = DecisionTreeClassifier(min_samples_split=100,\n",
    "#                              max_depth = 6,\n",
    "#                              random_state = random_state)\n",
    "# dt = clf.fit(X_train, y_train)"
   ]
  },
  {
   "cell_type": "code",
   "execution_count": 151,
   "metadata": {},
   "outputs": [
    {
     "data": {
      "text/plain": [
       "DecisionTreeClassifier(ccp_alpha=0.0, class_weight=None, criterion='gini',\n",
       "                       max_depth=None, max_features=None, max_leaf_nodes=7,\n",
       "                       min_impurity_decrease=0.0, min_impurity_split=None,\n",
       "                       min_samples_leaf=1, min_samples_split=10,\n",
       "                       min_weight_fraction_leaf=0.0, presort='deprecated',\n",
       "                       random_state=333, splitter='best')"
      ]
     },
     "execution_count": 151,
     "metadata": {},
     "output_type": "execute_result"
    }
   ],
   "source": [
    "best_tree_1 = grid_search_cv.best_estimator_\n",
    "best_tree_1"
   ]
  },
  {
   "cell_type": "code",
   "execution_count": 152,
   "metadata": {},
   "outputs": [
    {
     "data": {
      "image/png": "[encoded data removed]",
      "text/plain": [
       "<IPython.core.display.Image object>"
      ]
     },
     "execution_count": 152,
     "metadata": {},
     "output_type": "execute_result"
    }
   ],
   "source": [
    "dot_data = StringIO()\n",
    "export_graphviz(best_tree_1, feature_names = features, out_file=dot_data,  \n",
    "                filled=True, rounded=True,\n",
    "                special_characters=True)\n",
    "graph = pydotplus.graph_from_dot_data(dot_data.getvalue())  \n",
    "Image(graph.create_png())"
   ]
  },
  {
   "cell_type": "code",
   "execution_count": 195,
   "metadata": {},
   "outputs": [],
   "source": [
    "tree.export_graphviz(best_tree_1,\n",
    "                     out_file=\"tree1.dot\",\n",
    "                     feature_names = features, \n",
    "                     class_names=['не отчислен','отчислен'],\n",
    "                     filled = True)"
   ]
  },
  {
   "cell_type": "markdown",
   "metadata": {},
   "source": [
    "https://towardsdatascience.com/visualizing-decision-trees-with-python-scikit-learn-graphviz-matplotlib-1c50b4aa68dc"
   ]
  },
  {
   "cell_type": "code",
   "execution_count": 154,
   "metadata": {
    "scrolled": true
   },
   "outputs": [
    {
     "data": {
      "text/plain": [
       "array([0., 0., 0., 0., 1., 0., 0., 0., 0., 0., 0., 1., 1., 0., 0., 0., 0.,\n",
       "       1., 0., 0., 0., 0., 1., 0., 0., 0., 0., 0., 0., 0., 0., 0., 0., 0.,\n",
       "       0., 0., 0., 0., 0., 0., 0., 1., 0., 0., 0., 0., 0., 0., 0., 0., 0.,\n",
       "       0., 0., 0., 0., 0., 0., 1., 0., 0., 0., 0., 0., 0., 0., 0., 0., 0.,\n",
       "       0., 0., 0., 1., 0., 0., 0., 0., 0., 0., 0., 0., 0., 0., 0., 0., 1.,\n",
       "       0., 0., 0., 0., 1., 0., 1., 0., 0., 0., 1., 0., 0., 0., 0., 0., 0.,\n",
       "       0., 0., 0., 0., 0., 0., 0., 0., 0., 0., 0., 0., 0., 0., 0., 1., 0.,\n",
       "       0., 0., 0., 0., 0., 0., 0., 0., 0., 0., 0., 0., 0., 0., 0., 0., 0.,\n",
       "       0., 0.])"
      ]
     },
     "execution_count": 154,
     "metadata": {},
     "output_type": "execute_result"
    }
   ],
   "source": [
    "y_pred = best_tree_1.predict(X_test)\n",
    "y_pred"
   ]
  },
  {
   "cell_type": "code",
   "execution_count": 155,
   "metadata": {
    "scrolled": false
   },
   "outputs": [
    {
     "name": "stdout",
     "output_type": "stream",
     "text": [
      "[[118   0]\n",
      " [  7  13]]\n"
     ]
    }
   ],
   "source": [
    "cnf_matrix = metrics.confusion_matrix(y_test, y_pred)\n",
    "print(cnf_matrix)"
   ]
  },
  {
   "cell_type": "code",
   "execution_count": 156,
   "metadata": {
    "scrolled": false
   },
   "outputs": [
    {
     "name": "stdout",
     "output_type": "stream",
     "text": [
      "Precision: 1.0\n",
      "Recall: 0.65\n"
     ]
    }
   ],
   "source": [
    "print(\"Precision:\",metrics.precision_score(y_test, y_pred))\n",
    "print(\"Recall:\",metrics.recall_score(y_test, y_pred))"
   ]
  },
  {
   "cell_type": "markdown",
   "metadata": {},
   "source": [
    "# SVM"
   ]
  },
  {
   "cell_type": "code",
   "execution_count": 157,
   "metadata": {},
   "outputs": [
    {
     "name": "stdout",
     "output_type": "stream",
     "text": [
      "Fitting 3 folds for each of 18 candidates, totalling 54 fits\n"
     ]
    },
    {
     "name": "stderr",
     "output_type": "stream",
     "text": [
      "[Parallel(n_jobs=1)]: Using backend SequentialBackend with 1 concurrent workers.\n",
      "[Parallel(n_jobs=1)]: Done  54 out of  54 | elapsed:   13.5s finished\n"
     ]
    },
    {
     "data": {
      "text/plain": [
       "GridSearchCV(cv=3, error_score=nan,\n",
       "             estimator=SVC(C=1.0, break_ties=False, cache_size=200,\n",
       "                           class_weight=None, coef0=0.0,\n",
       "                           decision_function_shape='ovr', degree=3,\n",
       "                           gamma='scale', kernel='rbf', max_iter=-1,\n",
       "                           probability=False, random_state=333, shrinking=True,\n",
       "                           tol=0.001, verbose=False),\n",
       "             iid='deprecated', n_jobs=None,\n",
       "             param_grid={'class_weight': [None, {0: 8, 1: 1}, {0: 10, 1: 1}],\n",
       "                         'gamma': ['scale', 'auto'],\n",
       "                         'kernel': ['rbf', 'linear', 'sigmoid']},\n",
       "             pre_dispatch='2*n_jobs', refit=True, return_train_score=False,\n",
       "             scoring='f1', verbose=1)"
      ]
     },
     "execution_count": 157,
     "metadata": {},
     "output_type": "execute_result"
    }
   ],
   "source": [
    "params = {'kernel': [\"rbf\",\"linear\",\"sigmoid\"],\n",
    "          'gamma' : [\"scale\", \"auto\"],\n",
    "         'class_weight':[None,{0:8,1:1},{0:10,1:1}]}\n",
    "\n",
    "grid_search_cv = GridSearchCV(svm.SVC(random_state=random_state), params, verbose=1, cv=3, scoring='f1')\n",
    "grid_search_cv.fit(X_train, y_train)"
   ]
  },
  {
   "cell_type": "code",
   "execution_count": 158,
   "metadata": {
    "scrolled": false
   },
   "outputs": [
    {
     "data": {
      "text/plain": [
       "SVC(C=1.0, break_ties=False, cache_size=200, class_weight={0: 8, 1: 1},\n",
       "    coef0=0.0, decision_function_shape='ovr', degree=3, gamma='scale',\n",
       "    kernel='rbf', max_iter=-1, probability=False, random_state=333,\n",
       "    shrinking=True, tol=0.001, verbose=False)"
      ]
     },
     "execution_count": 158,
     "metadata": {},
     "output_type": "execute_result"
    }
   ],
   "source": [
    "best_svm_1 =  grid_search_cv.best_estimator_\n",
    "best_svm_1"
   ]
  },
  {
   "cell_type": "code",
   "execution_count": 159,
   "metadata": {},
   "outputs": [],
   "source": [
    "best_svm_1_proba = svm.SVC(C=1.0, break_ties=False, cache_size=200, class_weight={0: 8, 1: 1},\n",
    "    coef0=0.0, decision_function_shape='ovr', degree=3, gamma='scale',\n",
    "    kernel='rbf', max_iter=-1, probability=True, random_state=333,\n",
    "    shrinking=True, tol=0.001, verbose=False)"
   ]
  },
  {
   "cell_type": "code",
   "execution_count": 160,
   "metadata": {},
   "outputs": [
    {
     "data": {
      "image/png": "[encoded data removed]",
      "text/plain": [
       "<Figure size 432x288 with 1 Axes>"
      ]
     },
     "metadata": {
      "needs_background": "light"
     },
     "output_type": "display_data"
    }
   ],
   "source": [
    "best_svm_1_proba.fit(X_train, y_train)\n",
    "y_pred = best_svm_1_proba.predict_proba(X_test)[::,1]\n",
    "\n",
    "fpr, tpr, _ = metrics.roc_curve(y_test,  y_pred)\n",
    "auc = metrics.roc_auc_score(y_test, y_pred)\n",
    "plt.plot(fpr,tpr,label=\"SVM, auc=\" + str(auc))\n",
    "plt.plot([0, 1], [0, 1],'r--')\n",
    "plt.legend(loc=4)\n",
    "plt.xlabel('False Positive Rate')\n",
    "plt.ylabel('True Positive Rate')\n",
    "plt.title('Receiver operating characteristic')\n",
    "plt.savefig('svm_1.png', dpi=300, bbox_inches=\"tight\")"
   ]
  },
  {
   "cell_type": "code",
   "execution_count": 161,
   "metadata": {
    "scrolled": false
   },
   "outputs": [
    {
     "name": "stdout",
     "output_type": "stream",
     "text": [
      "[[118   0]\n",
      " [  8  12]]\n",
      "Precision: 1.0\n",
      "Recall: 0.6\n"
     ]
    }
   ],
   "source": [
    "y_pred = best_svm_1.predict(X_test)\n",
    "\n",
    "cnf_matrix = metrics.confusion_matrix(y_test, y_pred)\n",
    "print(cnf_matrix)\n",
    "\n",
    "print(\"Precision:\",metrics.precision_score(y_test, y_pred))\n",
    "print(\"Recall:\",metrics.recall_score(y_test, y_pred))"
   ]
  },
  {
   "cell_type": "markdown",
   "metadata": {},
   "source": [
    "общая ROC"
   ]
  },
  {
   "cell_type": "code",
   "execution_count": 162,
   "metadata": {
    "scrolled": true
   },
   "outputs": [
    {
     "data": {
      "image/png": "[encoded data removed]",
      "text/plain": [
       "<Figure size 432x288 with 1 Axes>"
      ]
     },
     "metadata": {
      "needs_background": "light"
     },
     "output_type": "display_data"
    }
   ],
   "source": [
    "models1 = {best_logit_1:\"Logistic Regression, auc = \",\n",
    "           best_tree_1:\"Decision Tree, auc = \",\n",
    "           best_svm_1_proba:\"Support Vector Machine, auc = \"}\n",
    "\n",
    "for model,label in models1.items():\n",
    "    y_pred = model.predict_proba(X_test)[::,1]\n",
    "    fpr, tpr, _ = metrics.roc_curve(y_test,  y_pred)\n",
    "    auc = round(metrics.roc_auc_score(y_test, y_pred),4)\n",
    "    plt.plot(fpr,tpr,label=label + str(auc))\n",
    "plt.plot([0, 1], [0, 1],'r--')\n",
    "plt.legend(loc=4)\n",
    "plt.xlabel('False Positive Rate',**hfont)\n",
    "plt.ylabel('True Positive Rate',**hfont)\n",
    "plt.title('Receiver operating characteristic',**hfont)\n",
    "plt.savefig('roc1.png', dpi=300, bbox_inches=\"tight\")"
   ]
  },
  {
   "cell_type": "markdown",
   "metadata": {},
   "source": [
    "# МОДЕЛИ ДЛЯ КОНЦА ГОДА"
   ]
  },
  {
   "cell_type": "markdown",
   "metadata": {},
   "source": [
    "исключаем выбывших в первом семестре"
   ]
  },
  {
   "cell_type": "code",
   "execution_count": 355,
   "metadata": {},
   "outputs": [],
   "source": [
    "data_2 = data.copy()\n",
    "data_2.drop(data_2[data_2[\"dropout_1\"]==1].index, inplace=True)"
   ]
  },
  {
   "cell_type": "code",
   "execution_count": 356,
   "metadata": {},
   "outputs": [],
   "source": [
    "broad_after = ['rank_1_2_after', \n",
    "       'fails_1_2_after']\n",
    "broad_before = ['rank_1_2_before', \n",
    "        'fails_1_2_before']\n",
    "sub_after = ['eng_after', 'discrete_math_after','programming_after',\n",
    "        'lin_alg_after', 'calculus_1_after','economics_after']\n",
    "sub_before = ['eng_before', 'discrete_math_before','programming_before',\n",
    "        'lin_alg_before', 'calculus_1_before','economics_before']\n",
    "#'enrol_year_2015', 'enrol_year_2016','enrol_year_2017'\n",
    "features = ['gender'] + broad_before + before + after + sub_before"
   ]
  },
  {
   "cell_type": "code",
   "execution_count": 357,
   "metadata": {},
   "outputs": [],
   "source": [
    "train,test = train_test_split(data_2, test_size = test_size, random_state=random_state)\n",
    "\n",
    "X_train = train[features]\n",
    "y_train = train['dropout_2']\n",
    "\n",
    "X_test = test[features]\n",
    "y_test = test['dropout_2']"
   ]
  },
  {
   "cell_type": "markdown",
   "metadata": {},
   "source": [
    "# Logit"
   ]
  },
  {
   "cell_type": "code",
   "execution_count": 358,
   "metadata": {},
   "outputs": [
    {
     "name": "stdout",
     "output_type": "stream",
     "text": [
      "Fitting 3 folds for each of 12 candidates, totalling 36 fits\n"
     ]
    },
    {
     "name": "stderr",
     "output_type": "stream",
     "text": [
      "[Parallel(n_jobs=1)]: Using backend SequentialBackend with 1 concurrent workers.\n",
      "/Library/Frameworks/Python.framework/Versions/3.7/lib/python3.7/site-packages/sklearn/model_selection/_validation.py:536: FitFailedWarning: Estimator fit failed. The score on this train-test partition for these parameters will be set to nan. Details: \n",
      "ValueError: Solver newton-cg supports only 'l2' or 'none' penalties, got l1 penalty.\n",
      "\n",
      "  FitFailedWarning)\n",
      "/Library/Frameworks/Python.framework/Versions/3.7/lib/python3.7/site-packages/sklearn/model_selection/_validation.py:536: FitFailedWarning: Estimator fit failed. The score on this train-test partition for these parameters will be set to nan. Details: \n",
      "ValueError: Solver newton-cg supports only 'l2' or 'none' penalties, got l1 penalty.\n",
      "\n",
      "  FitFailedWarning)\n",
      "/Library/Frameworks/Python.framework/Versions/3.7/lib/python3.7/site-packages/sklearn/model_selection/_validation.py:536: FitFailedWarning: Estimator fit failed. The score on this train-test partition for these parameters will be set to nan. Details: \n",
      "ValueError: Solver newton-cg supports only 'l2' or 'none' penalties, got l1 penalty.\n",
      "\n",
      "  FitFailedWarning)\n",
      "[Parallel(n_jobs=1)]: Done  36 out of  36 | elapsed:    0.9s finished\n"
     ]
    },
    {
     "data": {
      "text/plain": [
       "GridSearchCV(cv=3, error_score=nan,\n",
       "             estimator=LogisticRegression(C=1.0, class_weight=None, dual=False,\n",
       "                                          fit_intercept=True,\n",
       "                                          intercept_scaling=1, l1_ratio=None,\n",
       "                                          max_iter=100, multi_class='auto',\n",
       "                                          n_jobs=None, penalty='l2',\n",
       "                                          random_state=333, solver='lbfgs',\n",
       "                                          tol=0.0001, verbose=0,\n",
       "                                          warm_start=False),\n",
       "             iid='deprecated', n_jobs=None,\n",
       "             param_grid={'class_weight': [None, {0: 8, 1: 1}, {0: 10, 1: 1}],\n",
       "                         'penalty': ['l1', 'l2'],\n",
       "                         'solver': ['newton-cg', 'liblinear']},\n",
       "             pre_dispatch='2*n_jobs', refit=True, return_train_score=False,\n",
       "             scoring='f1', verbose=1)"
      ]
     },
     "execution_count": 358,
     "metadata": {},
     "output_type": "execute_result"
    }
   ],
   "source": [
    "params = {'solver': [\"newton-cg\",\"liblinear\"],\n",
    "          'penalty' : ['l1', 'l2'],\n",
    "         'class_weight':[None,{0:8,1:1},{0:10,1:1}]}\n",
    "\n",
    "grid_search_cv = GridSearchCV(LogisticRegression(random_state=random_state), params, verbose=1, cv=3, scoring='f1')\n",
    "grid_search_cv.fit(X_train, y_train)\n",
    "\n",
    "# model = LogisticRegression(solver=\"liblinear\",\n",
    "#                           random_state = random_state,\n",
    "#                       class_weight={0:10,1:1}\n",
    "#                           )\n",
    "# model.fit(X_train,y_train)\n",
    "# y_pred = model.predict(X_test)"
   ]
  },
  {
   "cell_type": "code",
   "execution_count": 359,
   "metadata": {},
   "outputs": [
    {
     "data": {
      "text/plain": [
       "LogisticRegression(C=1.0, class_weight=None, dual=False, fit_intercept=True,\n",
       "                   intercept_scaling=1, l1_ratio=None, max_iter=100,\n",
       "                   multi_class='auto', n_jobs=None, penalty='l2',\n",
       "                   random_state=333, solver='liblinear', tol=0.0001, verbose=0,\n",
       "                   warm_start=False)"
      ]
     },
     "execution_count": 359,
     "metadata": {},
     "output_type": "execute_result"
    }
   ],
   "source": [
    "best_logit_2 = grid_search_cv.best_estimator_\n",
    "best_logit_2"
   ]
  },
  {
   "cell_type": "code",
   "execution_count": 360,
   "metadata": {},
   "outputs": [
    {
     "data": {
      "text/plain": [
       "array([[-0.00813197, -0.0145574 ,  0.14183453, -0.00207368,  0.37349181,\n",
       "         0.0273526 , -0.74864076,  0.02261772, -0.29849781,  0.23975376,\n",
       "         0.38573703, -0.05936896, -0.29332625, -0.17896295, -0.02883933,\n",
       "        -0.13411035, -0.15639487]])"
      ]
     },
     "execution_count": 360,
     "metadata": {},
     "output_type": "execute_result"
    }
   ],
   "source": [
    "best_logit_2.coef_"
   ]
  },
  {
   "cell_type": "code",
   "execution_count": 361,
   "metadata": {},
   "outputs": [
    {
     "name": "stdout",
     "output_type": "stream",
     "text": [
      "[[110   2]\n",
      " [  0  10]]\n",
      "Accuracy: 0.9836065573770492\n",
      "Precision: 0.8333333333333334\n",
      "Recall: 1.0\n"
     ]
    }
   ],
   "source": [
    "y_pred = best_logit_2.predict(X_test)\n",
    "cnf_matrix = metrics.confusion_matrix(y_test, y_pred)\n",
    "print(cnf_matrix)\n",
    "\n",
    "print(\"Accuracy:\",metrics.accuracy_score(y_test, y_pred))\n",
    "print(\"Precision:\",metrics.precision_score(y_test, y_pred))\n",
    "print(\"Recall:\",metrics.recall_score(y_test, y_pred))"
   ]
  },
  {
   "cell_type": "code",
   "execution_count": 362,
   "metadata": {},
   "outputs": [
    {
     "data": {
      "image/png": "[encoded data removed]",
      "text/plain": [
       "<Figure size 432x288 with 1 Axes>"
      ]
     },
     "metadata": {
      "needs_background": "light"
     },
     "output_type": "display_data"
    }
   ],
   "source": [
    "y_pred_proba = best_logit_2.predict_proba(X_test)[::,1]\n",
    "fpr, tpr, _ = metrics.roc_curve(y_test,  y_pred_proba)\n",
    "auc = metrics.roc_auc_score(y_test, y_pred_proba)\n",
    "plt.plot(fpr,tpr,label=\"Logistic regression, auc=\" + str(auc))\n",
    "plt.plot([0, 1], [0, 1],'r--')\n",
    "plt.legend(loc=4)\n",
    "plt.xlabel('False Positive Rate')\n",
    "plt.ylabel('True Positive Rate')\n",
    "plt.title('Receiver operating characteristic')\n",
    "plt.savefig('logit_2.png', dpi=300, bbox_inches=\"tight\")"
   ]
  },
  {
   "cell_type": "markdown",
   "metadata": {},
   "source": [
    "## Decision Trees"
   ]
  },
  {
   "cell_type": "code",
   "execution_count": 363,
   "metadata": {},
   "outputs": [
    {
     "name": "stdout",
     "output_type": "stream",
     "text": [
      "Fitting 3 folds for each of 8820 candidates, totalling 26460 fits\n"
     ]
    },
    {
     "name": "stderr",
     "output_type": "stream",
     "text": [
      "[Parallel(n_jobs=1)]: Using backend SequentialBackend with 1 concurrent workers.\n",
      "[Parallel(n_jobs=1)]: Done 26460 out of 26460 | elapsed:  2.5min finished\n"
     ]
    },
    {
     "data": {
      "text/plain": [
       "GridSearchCV(cv=3, error_score=nan,\n",
       "             estimator=DecisionTreeClassifier(ccp_alpha=0.0, class_weight=None,\n",
       "                                              criterion='gini', max_depth=None,\n",
       "                                              max_features=None,\n",
       "                                              max_leaf_nodes=None,\n",
       "                                              min_impurity_decrease=0.0,\n",
       "                                              min_impurity_split=None,\n",
       "                                              min_samples_leaf=1,\n",
       "                                              min_samples_split=2,\n",
       "                                              min_weight_fraction_leaf=0.0,\n",
       "                                              presort='deprecated',\n",
       "                                              random_state=333,\n",
       "                                              splitter='best'),\n",
       "             iid='deprecated', n_jobs=None,\n",
       "             param_grid={'max_depth': [1, 2, None],\n",
       "                         'max_features': [None, 2, 5, 10, 'log2'],\n",
       "                         'max_leaf_nodes': [2, 3, 4, 5, 6, 7, 8, 9, 10, 11, 12,\n",
       "                                            13, 14, 15, 16, 17, 18, 19, 20, 21,\n",
       "                                            22, 23, 24, 25, 26, 27, 28, 29, 30,\n",
       "                                            31, ...],\n",
       "                         'min_samples_split': [10, 20, 30, 40, 50, 100]},\n",
       "             pre_dispatch='2*n_jobs', refit=True, return_train_score=False,\n",
       "             scoring='f1', verbose=1)"
      ]
     },
     "execution_count": 363,
     "metadata": {},
     "output_type": "execute_result"
    }
   ],
   "source": [
    "params = {'max_leaf_nodes': list(range(2, 100)), 'min_samples_split': [10,20,30,40,50,100],\n",
    "         'max_features':[None, 2,5,10, 'log2'],'max_depth':[1,2,None]}\n",
    "grid_search_cv = GridSearchCV(DecisionTreeClassifier(random_state=random_state), params, verbose=1, cv=3, scoring='f1')\n",
    "grid_search_cv.fit(X_train, y_train)\n",
    "\n",
    "# clf = DecisionTreeClassifier(min_samples_split=50,\n",
    "#                              max_depth = 2,\n",
    "#                              random_state = random_state)\n",
    "# dt = clf.fit(X_train, y_train)"
   ]
  },
  {
   "cell_type": "code",
   "execution_count": 364,
   "metadata": {},
   "outputs": [
    {
     "data": {
      "text/plain": [
       "DecisionTreeClassifier(ccp_alpha=0.0, class_weight=None, criterion='gini',\n",
       "                       max_depth=None, max_features='log2', max_leaf_nodes=5,\n",
       "                       min_impurity_decrease=0.0, min_impurity_split=None,\n",
       "                       min_samples_leaf=1, min_samples_split=20,\n",
       "                       min_weight_fraction_leaf=0.0, presort='deprecated',\n",
       "                       random_state=333, splitter='best')"
      ]
     },
     "execution_count": 364,
     "metadata": {},
     "output_type": "execute_result"
    }
   ],
   "source": [
    "best_tree_2 = grid_search_cv.best_estimator_\n",
    "best_tree_2"
   ]
  },
  {
   "cell_type": "code",
   "execution_count": 365,
   "metadata": {},
   "outputs": [
    {
     "data": {
      "image/png": "[encoded data removed]",
      "text/plain": [
       "<IPython.core.display.Image object>"
      ]
     },
     "execution_count": 365,
     "metadata": {},
     "output_type": "execute_result"
    }
   ],
   "source": [
    "dot_data = StringIO()\n",
    "export_graphviz(best_tree_2, feature_names = features, out_file=dot_data,  \n",
    "                filled=True, rounded=True,\n",
    "                special_characters=True)\n",
    "graph = pydotplus.graph_from_dot_data(dot_data.getvalue())  \n",
    "Image(graph.create_png())"
   ]
  },
  {
   "cell_type": "code",
   "execution_count": 366,
   "metadata": {},
   "outputs": [],
   "source": [
    "tree.export_graphviz(best_tree_2,\n",
    "                     out_file=\"tree2.dot\",\n",
    "                     feature_names = features, \n",
    "                     class_names=['не отчислен','отчислен'],\n",
    "                     filled = True)"
   ]
  },
  {
   "cell_type": "code",
   "execution_count": 367,
   "metadata": {},
   "outputs": [
    {
     "data": {
      "text/plain": [
       "array([0., 0., 0., 0., 0., 0., 1., 0., 0., 0., 0., 1., 0., 1., 0., 0., 0.,\n",
       "       0., 0., 0., 0., 0., 0., 0., 0., 0., 0., 0., 0., 0., 0., 0., 0., 0.,\n",
       "       0., 0., 0., 0., 0., 0., 0., 0., 0., 0., 0., 0., 0., 0., 0., 0., 0.,\n",
       "       0., 0., 0., 0., 0., 0., 0., 0., 0., 0., 0., 1., 1., 0., 0., 0., 0.,\n",
       "       0., 0., 0., 0., 0., 0., 0., 0., 0., 0., 0., 0., 0., 0., 0., 0., 0.,\n",
       "       0., 0., 0., 0., 0., 0., 0., 0., 0., 0., 0., 0., 0., 0., 0., 0., 0.,\n",
       "       0., 0., 0., 0., 0., 0., 0., 0., 0., 0., 0., 0., 0., 0., 0., 0., 0.,\n",
       "       0., 1., 0.])"
      ]
     },
     "execution_count": 367,
     "metadata": {},
     "output_type": "execute_result"
    }
   ],
   "source": [
    "y_pred = best_tree_2.predict(X_test)\n",
    "y_pred"
   ]
  },
  {
   "cell_type": "code",
   "execution_count": 368,
   "metadata": {
    "scrolled": true
   },
   "outputs": [
    {
     "name": "stdout",
     "output_type": "stream",
     "text": [
      "[[112   0]\n",
      " [  4   6]]\n"
     ]
    }
   ],
   "source": [
    "cnf_matrix = metrics.confusion_matrix(y_test, y_pred)\n",
    "print(cnf_matrix)"
   ]
  },
  {
   "cell_type": "code",
   "execution_count": 369,
   "metadata": {
    "scrolled": false
   },
   "outputs": [
    {
     "name": "stdout",
     "output_type": "stream",
     "text": [
      "Precision: 1.0\n",
      "Recall: 0.6\n"
     ]
    }
   ],
   "source": [
    "print(\"Precision:\",metrics.precision_score(y_test, y_pred))\n",
    "print(\"Recall:\",metrics.recall_score(y_test, y_pred))"
   ]
  },
  {
   "cell_type": "markdown",
   "metadata": {},
   "source": [
    "# SVM"
   ]
  },
  {
   "cell_type": "code",
   "execution_count": 370,
   "metadata": {},
   "outputs": [
    {
     "name": "stdout",
     "output_type": "stream",
     "text": [
      "Fitting 3 folds for each of 18 candidates, totalling 54 fits\n"
     ]
    },
    {
     "name": "stderr",
     "output_type": "stream",
     "text": [
      "[Parallel(n_jobs=1)]: Using backend SequentialBackend with 1 concurrent workers.\n",
      "[Parallel(n_jobs=1)]: Done  54 out of  54 | elapsed:   31.0s finished\n"
     ]
    },
    {
     "data": {
      "text/plain": [
       "GridSearchCV(cv=3, error_score=nan,\n",
       "             estimator=SVC(C=1.0, break_ties=False, cache_size=200,\n",
       "                           class_weight=None, coef0=0.0,\n",
       "                           decision_function_shape='ovr', degree=3,\n",
       "                           gamma='scale', kernel='rbf', max_iter=-1,\n",
       "                           probability=False, random_state=333, shrinking=True,\n",
       "                           tol=0.001, verbose=False),\n",
       "             iid='deprecated', n_jobs=None,\n",
       "             param_grid={'class_weight': [None, {0: 8, 1: 1}, {0: 10, 1: 1}],\n",
       "                         'gamma': ['scale', 'auto'],\n",
       "                         'kernel': ['rbf', 'linear', 'sigmoid']},\n",
       "             pre_dispatch='2*n_jobs', refit=True, return_train_score=False,\n",
       "             scoring='f1', verbose=1)"
      ]
     },
     "execution_count": 370,
     "metadata": {},
     "output_type": "execute_result"
    }
   ],
   "source": [
    "params = {'kernel': [\"rbf\",\"linear\",\"sigmoid\"],\n",
    "          'gamma' : [\"scale\", \"auto\"],\n",
    "         'class_weight':[None,{0:8,1:1},{0:10,1:1}]}\n",
    "\n",
    "grid_search_cv = GridSearchCV(svm.SVC(random_state=random_state), params, verbose=1, cv=3, scoring='f1')\n",
    "grid_search_cv.fit(X_train, y_train)"
   ]
  },
  {
   "cell_type": "code",
   "execution_count": 371,
   "metadata": {
    "scrolled": true
   },
   "outputs": [
    {
     "data": {
      "text/plain": [
       "SVC(C=1.0, break_ties=False, cache_size=200, class_weight=None, coef0=0.0,\n",
       "    decision_function_shape='ovr', degree=3, gamma='scale', kernel='rbf',\n",
       "    max_iter=-1, probability=False, random_state=333, shrinking=True, tol=0.001,\n",
       "    verbose=False)"
      ]
     },
     "execution_count": 371,
     "metadata": {},
     "output_type": "execute_result"
    }
   ],
   "source": [
    "best_svm_2 =  grid_search_cv.best_estimator_\n",
    "best_svm_2"
   ]
  },
  {
   "cell_type": "code",
   "execution_count": 372,
   "metadata": {},
   "outputs": [],
   "source": [
    "best_svm_2_proba = svm.SVC(C=1.0, break_ties=False, cache_size=200, class_weight=None, coef0=0.0,\n",
    "    decision_function_shape='ovr', degree=3, gamma='scale', kernel='rbf',\n",
    "    max_iter=-1, probability=True, random_state=333, shrinking=True, tol=0.001,\n",
    "    verbose=False)"
   ]
  },
  {
   "cell_type": "code",
   "execution_count": 373,
   "metadata": {},
   "outputs": [
    {
     "data": {
      "image/png": "[encoded data removed]",
      "text/plain": [
       "<Figure size 432x288 with 1 Axes>"
      ]
     },
     "metadata": {
      "needs_background": "light"
     },
     "output_type": "display_data"
    }
   ],
   "source": [
    "best_svm_2_proba.fit(X_train, y_train)\n",
    "y_pred = best_svm_2_proba.predict_proba(X_test)[::,1]\n",
    "\n",
    "fpr, tpr, _ = metrics.roc_curve(y_test,  y_pred)\n",
    "auc = metrics.roc_auc_score(y_test, y_pred)\n",
    "plt.plot(fpr,tpr,label=\"SVM, auc=\" + str(auc))\n",
    "plt.plot([0, 1], [0, 1],'r--')\n",
    "plt.legend(loc=4)\n",
    "plt.xlabel('False Positive Rate')\n",
    "plt.ylabel('True Positive Rate')\n",
    "plt.title('Receiver operating characteristic')\n",
    "plt.savefig('svm_2.png', dpi=300, bbox_inches=\"tight\")"
   ]
  },
  {
   "cell_type": "code",
   "execution_count": 374,
   "metadata": {
    "scrolled": false
   },
   "outputs": [
    {
     "name": "stdout",
     "output_type": "stream",
     "text": [
      "[[111   1]\n",
      " [  4   6]]\n",
      "Precision: 0.8571428571428571\n",
      "Recall: 0.6\n"
     ]
    }
   ],
   "source": [
    "y_pred = best_svm_2.predict(X_test)\n",
    "\n",
    "cnf_matrix = metrics.confusion_matrix(y_test, y_pred)\n",
    "print(cnf_matrix)\n",
    "\n",
    "print(\"Precision:\",metrics.precision_score(y_test, y_pred))\n",
    "print(\"Recall:\",metrics.recall_score(y_test, y_pred))"
   ]
  },
  {
   "cell_type": "markdown",
   "metadata": {},
   "source": [
    "общая ROC"
   ]
  },
  {
   "cell_type": "code",
   "execution_count": 375,
   "metadata": {
    "scrolled": false
   },
   "outputs": [
    {
     "data": {
      "image/png": "[encoded data removed]",
      "text/plain": [
       "<Figure size 432x288 with 1 Axes>"
      ]
     },
     "metadata": {
      "needs_background": "light"
     },
     "output_type": "display_data"
    }
   ],
   "source": [
    "models2 = {best_logit_2:\"Logistic Regression, auc = \",\n",
    "           best_tree_2:\"Decision Tree, auc = \",\n",
    "           best_svm_2_proba:\"Support Vector Machine, auc = \"}\n",
    "\n",
    "for model,label in models2.items():\n",
    "    y_pred = model.predict_proba(X_test)[::,1]\n",
    "    fpr, tpr, _ = metrics.roc_curve(y_test,  y_pred)\n",
    "    auc = round(metrics.roc_auc_score(y_test, y_pred),4)\n",
    "    plt.plot(fpr,tpr,label=label + str(auc))\n",
    "plt.plot([0, 1], [0, 1],'r--')\n",
    "plt.legend(loc=4)\n",
    "plt.xlabel('False Positive Rate',**hfont)\n",
    "plt.ylabel('True Positive Rate',**hfont)\n",
    "plt.title('Receiver operating characteristic',**hfont)\n",
    "plt.savefig('roc2.png', dpi=300, bbox_inches=\"tight\")"
   ]
  },
  {
   "cell_type": "markdown",
   "metadata": {},
   "source": [
    "# ВКЛЮЧАЯ AFTER"
   ]
  },
  {
   "cell_type": "code",
   "execution_count": 437,
   "metadata": {},
   "outputs": [],
   "source": [
    "data_2 = data.copy()\n",
    "data_2.drop(data_2[data_2[\"dropout_1\"]==1].index, inplace=True)"
   ]
  },
  {
   "cell_type": "code",
   "execution_count": 438,
   "metadata": {},
   "outputs": [],
   "source": [
    "broad_after = ['rank_1_2_after', \n",
    "       'fails_1_2_after']\n",
    "broad_before = ['rank_1_2_before', \n",
    "        'fails_1_2_before']\n",
    "sub_after = ['eng_after', 'discrete_math_after','programming_after',\n",
    "        'lin_alg_after', 'calculus_1_after','economics_after']\n",
    "sub_before = ['eng_before', 'discrete_math_before','programming_before',\n",
    "        'lin_alg_before', 'calculus_1_before','economics_before']\n",
    "#'enrol_year_2015', 'enrol_year_2016','enrol_year_2017'\n",
    "features = ['gender'] + broad_before + sub_before + sub_after"
   ]
  },
  {
   "cell_type": "code",
   "execution_count": 439,
   "metadata": {},
   "outputs": [],
   "source": [
    "train,test = train_test_split(data_2, test_size = test_size, random_state=random_state)\n",
    "\n",
    "X_train = train[features]\n",
    "y_train = train['dropout_2']\n",
    "\n",
    "X_test = test[features]\n",
    "y_test = test['dropout_2']"
   ]
  },
  {
   "cell_type": "markdown",
   "metadata": {},
   "source": [
    "# Logit"
   ]
  },
  {
   "cell_type": "code",
   "execution_count": 440,
   "metadata": {},
   "outputs": [
    {
     "name": "stdout",
     "output_type": "stream",
     "text": [
      "Fitting 3 folds for each of 12 candidates, totalling 36 fits\n"
     ]
    },
    {
     "name": "stderr",
     "output_type": "stream",
     "text": [
      "[Parallel(n_jobs=1)]: Using backend SequentialBackend with 1 concurrent workers.\n",
      "/Library/Frameworks/Python.framework/Versions/3.7/lib/python3.7/site-packages/sklearn/model_selection/_validation.py:536: FitFailedWarning: Estimator fit failed. The score on this train-test partition for these parameters will be set to nan. Details: \n",
      "ValueError: Solver newton-cg supports only 'l2' or 'none' penalties, got l1 penalty.\n",
      "\n",
      "  FitFailedWarning)\n",
      "/Library/Frameworks/Python.framework/Versions/3.7/lib/python3.7/site-packages/sklearn/model_selection/_validation.py:536: FitFailedWarning: Estimator fit failed. The score on this train-test partition for these parameters will be set to nan. Details: \n",
      "ValueError: Solver newton-cg supports only 'l2' or 'none' penalties, got l1 penalty.\n",
      "\n",
      "  FitFailedWarning)\n",
      "/Library/Frameworks/Python.framework/Versions/3.7/lib/python3.7/site-packages/sklearn/model_selection/_validation.py:536: FitFailedWarning: Estimator fit failed. The score on this train-test partition for these parameters will be set to nan. Details: \n",
      "ValueError: Solver newton-cg supports only 'l2' or 'none' penalties, got l1 penalty.\n",
      "\n",
      "  FitFailedWarning)\n",
      "[Parallel(n_jobs=1)]: Done  36 out of  36 | elapsed:    0.6s finished\n"
     ]
    },
    {
     "data": {
      "text/plain": [
       "GridSearchCV(cv=3, error_score=nan,\n",
       "             estimator=LogisticRegression(C=1.0, class_weight=None, dual=False,\n",
       "                                          fit_intercept=True,\n",
       "                                          intercept_scaling=1, l1_ratio=None,\n",
       "                                          max_iter=100, multi_class='auto',\n",
       "                                          n_jobs=None, penalty='l2',\n",
       "                                          random_state=333, solver='lbfgs',\n",
       "                                          tol=0.0001, verbose=0,\n",
       "                                          warm_start=False),\n",
       "             iid='deprecated', n_jobs=None,\n",
       "             param_grid={'class_weight': [None, {0: 8, 1: 1}, {0: 10, 1: 1}],\n",
       "                         'penalty': ['l1', 'l2'],\n",
       "                         'solver': ['newton-cg', 'liblinear']},\n",
       "             pre_dispatch='2*n_jobs', refit=True, return_train_score=False,\n",
       "             scoring='f1', verbose=1)"
      ]
     },
     "execution_count": 440,
     "metadata": {},
     "output_type": "execute_result"
    }
   ],
   "source": [
    "params = {'solver': [\"newton-cg\",\"liblinear\"],\n",
    "          'penalty' : ['l1', 'l2'],\n",
    "         'class_weight':[None,{0:8,1:1},{0:10,1:1}]}\n",
    "\n",
    "grid_search_cv = GridSearchCV(LogisticRegression(random_state=random_state), params, verbose=1, cv=3, scoring='f1')\n",
    "grid_search_cv.fit(X_train, y_train)\n",
    "\n",
    "# model = LogisticRegression(solver=\"liblinear\",\n",
    "#                           random_state = random_state,\n",
    "#                       class_weight={0:10,1:1}\n",
    "#                           )\n",
    "# model.fit(X_train,y_train)\n",
    "# y_pred = model.predict(X_test)"
   ]
  },
  {
   "cell_type": "code",
   "execution_count": 441,
   "metadata": {},
   "outputs": [
    {
     "data": {
      "text/plain": [
       "LogisticRegression(C=1.0, class_weight=None, dual=False, fit_intercept=True,\n",
       "                   intercept_scaling=1, l1_ratio=None, max_iter=100,\n",
       "                   multi_class='auto', n_jobs=None, penalty='l2',\n",
       "                   random_state=333, solver='newton-cg', tol=0.0001, verbose=0,\n",
       "                   warm_start=False)"
      ]
     },
     "execution_count": 441,
     "metadata": {},
     "output_type": "execute_result"
    }
   ],
   "source": [
    "best_logit_3 = grid_search_cv.best_estimator_\n",
    "best_logit_3"
   ]
  },
  {
   "cell_type": "code",
   "execution_count": 442,
   "metadata": {},
   "outputs": [
    {
     "data": {
      "text/plain": [
       "array([[ 0.06912639, -0.00849263,  0.62901968,  0.14902467,  0.12814372,\n",
       "         0.27827416,  0.03712187,  0.2473582 , -0.2537169 , -0.55335121,\n",
       "        -0.66529161, -0.36279175, -0.07993317, -0.29701734,  0.55270232]])"
      ]
     },
     "execution_count": 442,
     "metadata": {},
     "output_type": "execute_result"
    }
   ],
   "source": [
    "best_logit_3.coef_"
   ]
  },
  {
   "cell_type": "code",
   "execution_count": 443,
   "metadata": {},
   "outputs": [
    {
     "name": "stdout",
     "output_type": "stream",
     "text": [
      "[[112   0]\n",
      " [  0  10]]\n",
      "Accuracy: 1.0\n",
      "Precision: 1.0\n",
      "Recall: 1.0\n"
     ]
    }
   ],
   "source": [
    "y_pred = best_logit_3.predict(X_test)\n",
    "cnf_matrix = metrics.confusion_matrix(y_test, y_pred)\n",
    "print(cnf_matrix)\n",
    "\n",
    "print(\"Accuracy:\",metrics.accuracy_score(y_test, y_pred))\n",
    "print(\"Precision:\",metrics.precision_score(y_test, y_pred))\n",
    "print(\"Recall:\",metrics.recall_score(y_test, y_pred))"
   ]
  },
  {
   "cell_type": "code",
   "execution_count": 444,
   "metadata": {},
   "outputs": [
    {
     "data": {
      "image/png": "[encoded data removed]",
      "text/plain": [
       "<Figure size 432x288 with 1 Axes>"
      ]
     },
     "metadata": {
      "needs_background": "light"
     },
     "output_type": "display_data"
    }
   ],
   "source": [
    "y_pred_proba = best_logit_3.predict_proba(X_test)[::,1]\n",
    "fpr, tpr, _ = metrics.roc_curve(y_test,  y_pred_proba)\n",
    "auc = metrics.roc_auc_score(y_test, y_pred_proba)\n",
    "plt.plot(fpr,tpr,label=\"Logistic regression, auc=\" + str(auc))\n",
    "plt.plot([0, 1], [0, 1],'r--')\n",
    "plt.legend(loc=4)\n",
    "plt.xlabel('False Positive Rate')\n",
    "plt.ylabel('True Positive Rate')\n",
    "plt.title('Receiver operating characteristic')\n",
    "plt.savefig('logit_3.png', dpi=300, bbox_inches=\"tight\")"
   ]
  },
  {
   "cell_type": "markdown",
   "metadata": {},
   "source": [
    "## Decision Trees"
   ]
  },
  {
   "cell_type": "code",
   "execution_count": 445,
   "metadata": {},
   "outputs": [
    {
     "name": "stdout",
     "output_type": "stream",
     "text": [
      "Fitting 3 folds for each of 8820 candidates, totalling 26460 fits\n"
     ]
    },
    {
     "name": "stderr",
     "output_type": "stream",
     "text": [
      "[Parallel(n_jobs=1)]: Using backend SequentialBackend with 1 concurrent workers.\n",
      "[Parallel(n_jobs=1)]: Done 26460 out of 26460 | elapsed:  2.3min finished\n"
     ]
    },
    {
     "data": {
      "text/plain": [
       "GridSearchCV(cv=3, error_score=nan,\n",
       "             estimator=DecisionTreeClassifier(ccp_alpha=0.0, class_weight=None,\n",
       "                                              criterion='gini', max_depth=None,\n",
       "                                              max_features=None,\n",
       "                                              max_leaf_nodes=None,\n",
       "                                              min_impurity_decrease=0.0,\n",
       "                                              min_impurity_split=None,\n",
       "                                              min_samples_leaf=1,\n",
       "                                              min_samples_split=2,\n",
       "                                              min_weight_fraction_leaf=0.0,\n",
       "                                              presort='deprecated',\n",
       "                                              random_state=333,\n",
       "                                              splitter='best'),\n",
       "             iid='deprecated', n_jobs=None,\n",
       "             param_grid={'max_depth': [1, 2, None],\n",
       "                         'max_features': [None, 2, 5, 10, 'log2'],\n",
       "                         'max_leaf_nodes': [2, 3, 4, 5, 6, 7, 8, 9, 10, 11, 12,\n",
       "                                            13, 14, 15, 16, 17, 18, 19, 20, 21,\n",
       "                                            22, 23, 24, 25, 26, 27, 28, 29, 30,\n",
       "                                            31, ...],\n",
       "                         'min_samples_split': [10, 20, 30, 40, 50, 100]},\n",
       "             pre_dispatch='2*n_jobs', refit=True, return_train_score=False,\n",
       "             scoring='f1', verbose=1)"
      ]
     },
     "execution_count": 445,
     "metadata": {},
     "output_type": "execute_result"
    }
   ],
   "source": [
    "params = {'max_leaf_nodes': list(range(2, 100)), 'min_samples_split': [10,20,30,40,50,100],\n",
    "         'max_features':[None, 2,5,10, 'log2'],'max_depth':[1,2,None]}\n",
    "grid_search_cv = GridSearchCV(DecisionTreeClassifier(random_state=random_state), params, verbose=1, cv=3, scoring='f1')\n",
    "grid_search_cv.fit(X_train, y_train)\n",
    "\n",
    "# clf = DecisionTreeClassifier(min_samples_split=50,\n",
    "#                              max_depth = 2,\n",
    "#                              random_state = random_state)\n",
    "# dt = clf.fit(X_train, y_train)"
   ]
  },
  {
   "cell_type": "code",
   "execution_count": 446,
   "metadata": {},
   "outputs": [
    {
     "data": {
      "text/plain": [
       "DecisionTreeClassifier(ccp_alpha=0.0, class_weight=None, criterion='gini',\n",
       "                       max_depth=None, max_features=5, max_leaf_nodes=6,\n",
       "                       min_impurity_decrease=0.0, min_impurity_split=None,\n",
       "                       min_samples_leaf=1, min_samples_split=10,\n",
       "                       min_weight_fraction_leaf=0.0, presort='deprecated',\n",
       "                       random_state=333, splitter='best')"
      ]
     },
     "execution_count": 446,
     "metadata": {},
     "output_type": "execute_result"
    }
   ],
   "source": [
    "best_tree_3 = grid_search_cv.best_estimator_\n",
    "best_tree_3"
   ]
  },
  {
   "cell_type": "code",
   "execution_count": 447,
   "metadata": {},
   "outputs": [
    {
     "data": {
      "image/png": "[encoded data removed]",
      "text/plain": [
       "<IPython.core.display.Image object>"
      ]
     },
     "execution_count": 447,
     "metadata": {},
     "output_type": "execute_result"
    }
   ],
   "source": [
    "dot_data = StringIO()\n",
    "export_graphviz(best_tree_3, feature_names = features, out_file=dot_data,  \n",
    "                filled=True, rounded=True,\n",
    "                special_characters=True)\n",
    "graph = pydotplus.graph_from_dot_data(dot_data.getvalue())  \n",
    "Image(graph.create_png())"
   ]
  },
  {
   "cell_type": "code",
   "execution_count": 448,
   "metadata": {},
   "outputs": [],
   "source": [
    "tree.export_graphviz(best_tree_3,\n",
    "                     out_file=\"tree3.dot\",\n",
    "                     feature_names = features, \n",
    "                     class_names=['не отчислен','отчислен'],\n",
    "                     filled = True)"
   ]
  },
  {
   "cell_type": "code",
   "execution_count": 449,
   "metadata": {},
   "outputs": [
    {
     "data": {
      "text/plain": [
       "array([0., 0., 0., 0., 0., 0., 1., 0., 1., 0., 0., 1., 0., 1., 0., 0., 0.,\n",
       "       0., 0., 0., 0., 0., 0., 0., 0., 0., 0., 0., 0., 1., 0., 0., 0., 0.,\n",
       "       0., 0., 0., 0., 0., 0., 0., 0., 0., 0., 0., 0., 0., 0., 0., 1., 0.,\n",
       "       0., 0., 0., 0., 0., 0., 0., 0., 0., 1., 0., 1., 1., 0., 0., 0., 0.,\n",
       "       0., 0., 0., 0., 0., 0., 0., 0., 0., 0., 0., 0., 0., 0., 0., 0., 0.,\n",
       "       0., 0., 0., 0., 0., 1., 0., 0., 0., 0., 0., 0., 0., 0., 0., 0., 0.,\n",
       "       0., 0., 0., 0., 0., 0., 0., 1., 0., 0., 0., 0., 0., 0., 0., 0., 0.,\n",
       "       0., 1., 0.])"
      ]
     },
     "execution_count": 449,
     "metadata": {},
     "output_type": "execute_result"
    }
   ],
   "source": [
    "y_pred = best_tree_3.predict(X_test)\n",
    "y_pred"
   ]
  },
  {
   "cell_type": "code",
   "execution_count": 450,
   "metadata": {
    "scrolled": true
   },
   "outputs": [
    {
     "name": "stdout",
     "output_type": "stream",
     "text": [
      "[[110   2]\n",
      " [  0  10]]\n"
     ]
    }
   ],
   "source": [
    "cnf_matrix = metrics.confusion_matrix(y_test, y_pred)\n",
    "print(cnf_matrix)"
   ]
  },
  {
   "cell_type": "code",
   "execution_count": 451,
   "metadata": {
    "scrolled": true
   },
   "outputs": [
    {
     "name": "stdout",
     "output_type": "stream",
     "text": [
      "Precision: 0.8333333333333334\n",
      "Recall: 1.0\n"
     ]
    }
   ],
   "source": [
    "print(\"Precision:\",metrics.precision_score(y_test, y_pred))\n",
    "print(\"Recall:\",metrics.recall_score(y_test, y_pred))"
   ]
  },
  {
   "cell_type": "markdown",
   "metadata": {},
   "source": [
    "# SVM"
   ]
  },
  {
   "cell_type": "code",
   "execution_count": 454,
   "metadata": {},
   "outputs": [
    {
     "name": "stdout",
     "output_type": "stream",
     "text": [
      "Fitting 3 folds for each of 18 candidates, totalling 54 fits\n"
     ]
    },
    {
     "name": "stderr",
     "output_type": "stream",
     "text": [
      "[Parallel(n_jobs=1)]: Using backend SequentialBackend with 1 concurrent workers.\n",
      "[Parallel(n_jobs=1)]: Done  54 out of  54 | elapsed:    4.7s finished\n"
     ]
    },
    {
     "data": {
      "text/plain": [
       "GridSearchCV(cv=3, error_score=nan,\n",
       "             estimator=SVC(C=1.0, break_ties=False, cache_size=200,\n",
       "                           class_weight=None, coef0=0.0,\n",
       "                           decision_function_shape='ovr', degree=3,\n",
       "                           gamma='scale', kernel='rbf', max_iter=-1,\n",
       "                           probability=False, random_state=333, shrinking=True,\n",
       "                           tol=0.001, verbose=False),\n",
       "             iid='deprecated', n_jobs=None,\n",
       "             param_grid={'class_weight': [None, {0: 8, 1: 1}, {0: 10, 1: 1}],\n",
       "                         'gamma': ['scale', 'auto'],\n",
       "                         'kernel': ['rbf', 'linear', 'sigmoid']},\n",
       "             pre_dispatch='2*n_jobs', refit=True, return_train_score=False,\n",
       "             scoring='f1', verbose=1)"
      ]
     },
     "execution_count": 454,
     "metadata": {},
     "output_type": "execute_result"
    }
   ],
   "source": [
    "params = {'kernel': [\"rbf\",\"linear\",\"sigmoid\"],\n",
    "          'gamma' : [\"scale\", \"auto\"],\n",
    "         'class_weight':[None,{0:8,1:1},{0:10,1:1}]}\n",
    "\n",
    "grid_search_cv = GridSearchCV(svm.SVC(random_state=random_state), params, verbose=1, cv=3, scoring='f1')\n",
    "grid_search_cv.fit(X_train, y_train)"
   ]
  },
  {
   "cell_type": "code",
   "execution_count": 455,
   "metadata": {
    "scrolled": false
   },
   "outputs": [
    {
     "data": {
      "text/plain": [
       "SVC(C=1.0, break_ties=False, cache_size=200, class_weight=None, coef0=0.0,\n",
       "    decision_function_shape='ovr', degree=3, gamma='scale', kernel='linear',\n",
       "    max_iter=-1, probability=False, random_state=333, shrinking=True, tol=0.001,\n",
       "    verbose=False)"
      ]
     },
     "execution_count": 455,
     "metadata": {},
     "output_type": "execute_result"
    }
   ],
   "source": [
    "best_svm_3 =  grid_search_cv.best_estimator_\n",
    "best_svm_3"
   ]
  },
  {
   "cell_type": "code",
   "execution_count": 456,
   "metadata": {},
   "outputs": [],
   "source": [
    "best_svm_3_proba = svm.SVC(C=1.0, break_ties=False, cache_size=200, class_weight=None, coef0=0.0,\n",
    "    decision_function_shape='ovr', degree=3, gamma='scale', kernel='linear',\n",
    "    max_iter=-1, probability=True, random_state=333, shrinking=True, tol=0.001,\n",
    "    verbose=False)"
   ]
  },
  {
   "cell_type": "code",
   "execution_count": 457,
   "metadata": {},
   "outputs": [
    {
     "data": {
      "image/png": "[encoded data removed]",
      "text/plain": [
       "<Figure size 432x288 with 1 Axes>"
      ]
     },
     "metadata": {
      "needs_background": "light"
     },
     "output_type": "display_data"
    }
   ],
   "source": [
    "best_svm_3_proba.fit(X_train, y_train)\n",
    "y_pred = best_svm_3_proba.predict_proba(X_test)[::,1]\n",
    "\n",
    "fpr, tpr, _ = metrics.roc_curve(y_test,  y_pred)\n",
    "auc = metrics.roc_auc_score(y_test, y_pred)\n",
    "plt.plot(fpr,tpr,label=\"SVM, auc=\" + str(auc))\n",
    "plt.plot([0, 1], [0, 1],'r--')\n",
    "plt.legend(loc=4)\n",
    "plt.xlabel('False Positive Rate')\n",
    "plt.ylabel('True Positive Rate')\n",
    "plt.title('Receiver operating characteristic')\n",
    "plt.savefig('svm_3.png', dpi=300, bbox_inches=\"tight\")"
   ]
  },
  {
   "cell_type": "code",
   "execution_count": 458,
   "metadata": {
    "scrolled": false
   },
   "outputs": [
    {
     "name": "stdout",
     "output_type": "stream",
     "text": [
      "[[111   1]\n",
      " [  0  10]]\n",
      "Precision: 0.9090909090909091\n",
      "Recall: 1.0\n"
     ]
    }
   ],
   "source": [
    "y_pred = best_svm_3.predict(X_test)\n",
    "\n",
    "cnf_matrix = metrics.confusion_matrix(y_test, y_pred)\n",
    "print(cnf_matrix)\n",
    "\n",
    "print(\"Precision:\",metrics.precision_score(y_test, y_pred))\n",
    "print(\"Recall:\",metrics.recall_score(y_test, y_pred))"
   ]
  },
  {
   "cell_type": "markdown",
   "metadata": {},
   "source": [
    "общая ROC"
   ]
  },
  {
   "cell_type": "code",
   "execution_count": 459,
   "metadata": {
    "scrolled": true
   },
   "outputs": [
    {
     "data": {
      "image/png": "[encoded data removed]",
      "text/plain": [
       "<Figure size 432x288 with 1 Axes>"
      ]
     },
     "metadata": {
      "needs_background": "light"
     },
     "output_type": "display_data"
    }
   ],
   "source": [
    "models3 = {best_logit_3:\"Logistic Regression, auc = \",\n",
    "           best_tree_3:\"Decision Tree, auc = \",\n",
    "           best_svm_3_proba:\"Support Vector Machine, auc = \"}\n",
    "\n",
    "for model,label in models3.items():\n",
    "    y_pred = model.predict_proba(X_test)[::,1]\n",
    "    fpr, tpr, _ = metrics.roc_curve(y_test,  y_pred)\n",
    "    auc = round(metrics.roc_auc_score(y_test, y_pred),4)\n",
    "    plt.plot(fpr,tpr,label=label + str(auc))\n",
    "plt.plot([0, 1], [0, 1],'r--')\n",
    "plt.legend(loc=4)\n",
    "plt.xlabel('False Positive Rate',**hfont)\n",
    "plt.ylabel('True Positive Rate',**hfont)\n",
    "plt.title('Receiver operating characteristic',**hfont)\n",
    "plt.savefig('roc3.png', dpi=300, bbox_inches=\"tight\")"
   ]
  },
  {
   "cell_type": "code",
   "execution_count": 452,
   "metadata": {},
   "outputs": [
    {
     "data": {
      "text/plain": [
       "['gender',\n",
       " 'rank_1_2_before',\n",
       " 'fails_1_2_before',\n",
       " 'eng_before',\n",
       " 'discrete_math_before',\n",
       " 'programming_before',\n",
       " 'lin_alg_before',\n",
       " 'calculus_1_before',\n",
       " 'economics_before',\n",
       " 'eng_after',\n",
       " 'discrete_math_after',\n",
       " 'programming_after',\n",
       " 'lin_alg_after',\n",
       " 'calculus_1_after',\n",
       " 'economics_after']"
      ]
     },
     "execution_count": 452,
     "metadata": {},
     "output_type": "execute_result"
    }
   ],
   "source": [
    "features"
   ]
  },
  {
   "cell_type": "code",
   "execution_count": 453,
   "metadata": {},
   "outputs": [
    {
     "data": {
      "text/plain": [
       "'[gender, rank_1_2_before, fails_1_2_before, eng_before, discrete_math_before, programming_before, lin_alg_before, calculus_1_before, economics_before, eng_after, discrete_math_after, programming_after, lin_alg_after, calculus_1_after, economics_after]'"
      ]
     },
     "execution_count": 453,
     "metadata": {},
     "output_type": "execute_result"
    }
   ],
   "source": [
    "str(features).replace(\"\\'\",'')"
   ]
  },
  {
   "cell_type": "code",
   "execution_count": 409,
   "metadata": {},
   "outputs": [
    {
     "data": {
      "text/plain": [
       "'C: 1.0, class_weight: None, dual: False, fit_intercept: True, intercept_scaling: 1, l1_ratio: None, max_iter: 100, multi_class: auto, n_jobs: None, penalty: l2, random_state: 333, solver: newton-cg, tol: 0.0001, verbose: 0, warm_start: False}'"
      ]
     },
     "execution_count": 409,
     "metadata": {},
     "output_type": "execute_result"
    }
   ],
   "source": [
    "str(best_logit_1.get_params()).replace('\\'','').replace('{','')"
   ]
  },
  {
   "cell_type": "code",
   "execution_count": 410,
   "metadata": {},
   "outputs": [
    {
     "data": {
      "text/plain": [
       "'ccp_alpha: 0.0, class_weight: None, criterion: gini, max_depth: None, max_features: None, max_leaf_nodes: 7, min_impurity_decrease: 0.0, min_impurity_split: None, min_samples_leaf: 1, min_samples_split: 10, min_weight_fraction_leaf: 0.0, presort: deprecated, random_state: 333, splitter: best}'"
      ]
     },
     "execution_count": 410,
     "metadata": {},
     "output_type": "execute_result"
    }
   ],
   "source": [
    "str(best_tree_1.get_params()).replace('\\'','').replace('{','')"
   ]
  },
  {
   "cell_type": "code",
   "execution_count": 411,
   "metadata": {},
   "outputs": [
    {
     "data": {
      "text/plain": [
       "'C: 1.0, break_ties: False, cache_size: 200, class_weight: 0: 8, 1: 1}, coef0: 0.0, decision_function_shape: ovr, degree: 3, gamma: scale, kernel: rbf, max_iter: -1, probability: False, random_state: 333, shrinking: True, tol: 0.001, verbose: False}'"
      ]
     },
     "execution_count": 411,
     "metadata": {},
     "output_type": "execute_result"
    }
   ],
   "source": [
    "str(best_svm_1.get_params()).replace('\\'','').replace('{','')"
   ]
  },
  {
   "cell_type": "code",
   "execution_count": 412,
   "metadata": {},
   "outputs": [
    {
     "data": {
      "text/plain": [
       "'C: 1.0, class_weight: None, dual: False, fit_intercept: True, intercept_scaling: 1, l1_ratio: None, max_iter: 100, multi_class: auto, n_jobs: None, penalty: l2, random_state: 333, solver: liblinear, tol: 0.0001, verbose: 0, warm_start: False}'"
      ]
     },
     "execution_count": 412,
     "metadata": {},
     "output_type": "execute_result"
    }
   ],
   "source": [
    "str(best_logit_2.get_params()).replace('\\'','').replace('{','')"
   ]
  },
  {
   "cell_type": "code",
   "execution_count": 413,
   "metadata": {},
   "outputs": [
    {
     "data": {
      "text/plain": [
       "'ccp_alpha: 0.0, class_weight: None, criterion: gini, max_depth: None, max_features: log2, max_leaf_nodes: 5, min_impurity_decrease: 0.0, min_impurity_split: None, min_samples_leaf: 1, min_samples_split: 20, min_weight_fraction_leaf: 0.0, presort: deprecated, random_state: 333, splitter: best}'"
      ]
     },
     "execution_count": 413,
     "metadata": {},
     "output_type": "execute_result"
    }
   ],
   "source": [
    "str(best_tree_2.get_params()).replace('\\'','').replace('{','')"
   ]
  },
  {
   "cell_type": "code",
   "execution_count": 414,
   "metadata": {},
   "outputs": [
    {
     "data": {
      "text/plain": [
       "'C: 1.0, break_ties: False, cache_size: 200, class_weight: None, coef0: 0.0, decision_function_shape: ovr, degree: 3, gamma: scale, kernel: rbf, max_iter: -1, probability: False, random_state: 333, shrinking: True, tol: 0.001, verbose: False}'"
      ]
     },
     "execution_count": 414,
     "metadata": {},
     "output_type": "execute_result"
    }
   ],
   "source": [
    "str(best_svm_2.get_params()).replace('\\'','').replace('{','')"
   ]
  },
  {
   "cell_type": "code",
   "execution_count": 460,
   "metadata": {},
   "outputs": [
    {
     "data": {
      "text/plain": [
       "'C: 1.0, class_weight: None, dual: False, fit_intercept: True, intercept_scaling: 1, l1_ratio: None, max_iter: 100, multi_class: auto, n_jobs: None, penalty: l2, random_state: 333, solver: newton-cg, tol: 0.0001, verbose: 0, warm_start: False}'"
      ]
     },
     "execution_count": 460,
     "metadata": {},
     "output_type": "execute_result"
    }
   ],
   "source": [
    "str(best_logit_3.get_params()).replace('\\'','').replace('{','')"
   ]
  },
  {
   "cell_type": "code",
   "execution_count": 461,
   "metadata": {},
   "outputs": [
    {
     "data": {
      "text/plain": [
       "'ccp_alpha: 0.0, class_weight: None, criterion: gini, max_depth: None, max_features: 5, max_leaf_nodes: 6, min_impurity_decrease: 0.0, min_impurity_split: None, min_samples_leaf: 1, min_samples_split: 10, min_weight_fraction_leaf: 0.0, presort: deprecated, random_state: 333, splitter: best}'"
      ]
     },
     "execution_count": 461,
     "metadata": {},
     "output_type": "execute_result"
    }
   ],
   "source": [
    "str(best_tree_3.get_params()).replace('\\'','').replace('{','')"
   ]
  },
  {
   "cell_type": "code",
   "execution_count": 462,
   "metadata": {},
   "outputs": [
    {
     "data": {
      "text/plain": [
       "'C: 1.0, break_ties: False, cache_size: 200, class_weight: None, coef0: 0.0, decision_function_shape: ovr, degree: 3, gamma: scale, kernel: linear, max_iter: -1, probability: False, random_state: 333, shrinking: True, tol: 0.001, verbose: False}'"
      ]
     },
     "execution_count": 462,
     "metadata": {},
     "output_type": "execute_result"
    }
   ],
   "source": [
    "str(best_svm_3.get_params()).replace('\\'','').replace('{','')"
   ]
  },
  {
   "cell_type": "code",
   "execution_count": null,
   "metadata": {},
   "outputs": [],
   "source": []
  }
 ],
 "metadata": {
  "kernelspec": {
   "display_name": "Python 3",
   "language": "python",
   "name": "python3"
  },
  "language_info": {
   "codemirror_mode": {
    "name": "ipython",
    "version": 3
   },
   "file_extension": ".py",
   "mimetype": "text/x-python",
   "name": "python",
   "nbconvert_exporter": "python",
   "pygments_lexer": "ipython3",
   "version": "3.7.4"
  }
 },
 "nbformat": 4,
 "nbformat_minor": 2
}
